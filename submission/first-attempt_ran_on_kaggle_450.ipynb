{
 "cells": [
  {
   "cell_type": "markdown",
   "metadata": {
    "_cell_guid": "b1076dfc-b9ad-4769-8c92-a6c4dae69d19",
    "_uuid": "8f2839f25d086af736a60e9eeb907d3b93b6e0e5"
   },
   "source": [
    "## Quick attempt to train a model"
   ]
  },
  {
   "cell_type": "code",
   "execution_count": null,
   "metadata": {
    "_cell_guid": "79c7e3d0-c299-4dcb-8224-4455121ee9b0",
    "_uuid": "d629ff2d2480ee46fbb7e2d37f6b5fab8052498a"
   },
   "outputs": [],
   "source": [
    "import fastai\n",
    "from fastai import *\n",
    "from fastai.vision import *\n",
    "from sklearn.model_selection import train_test_split\n",
    "import time\n",
    "\n",
    "verbose = False  # should print out extra details?\n",
    "\n",
    "%matplotlib inline"
   ]
  },
  {
   "cell_type": "code",
   "execution_count": null,
   "metadata": {
    "_uuid": "b2f62a308d5fd9f41969fba88781578a320ccb4e"
   },
   "outputs": [],
   "source": [
    "bs = 64\n",
    "num_workers = 0  # Anything greater than zero will get error: DataLoader worker (pid 57) is killed by signal: Bus error\n",
    "image_size = 224"
   ]
  },
  {
   "cell_type": "code",
   "execution_count": null,
   "metadata": {
    "_uuid": "b442e91f2ddebcf56fff7ec499751068531d41c5"
   },
   "outputs": [],
   "source": [
    "!ls ../input"
   ]
  },
  {
   "cell_type": "code",
   "execution_count": null,
   "metadata": {
    "_uuid": "0fc2900060731e93fedf453b0de487a5886d16cc"
   },
   "outputs": [],
   "source": [
    "data_fp = Path('../input')\n",
    "data_train = data_fp/'train'\n",
    "data_test = data_fp/'test'"
   ]
  },
  {
   "cell_type": "markdown",
   "metadata": {
    "_uuid": "ea2442b96428d55f9c701fbea5c0b993d361f36b"
   },
   "source": [
    "## Looking at the data"
   ]
  },
  {
   "cell_type": "code",
   "execution_count": null,
   "metadata": {
    "_uuid": "0cf7f910b8e68ae90d377c81df17d9a9e3c6815a"
   },
   "outputs": [],
   "source": [
    "labels = pd.read_csv(data_fp/'train.csv')\n",
    "print(labels.shape)\n",
    "print(f'Number of classes: {len(labels.Id.unique()):,}')\n",
    "labels.head()"
   ]
  },
  {
   "cell_type": "markdown",
   "metadata": {
    "_uuid": "b12c3ece12d2b89ba88904d9bb2311643e58d318"
   },
   "source": [
    "## Split Data into training and validation set"
   ]
  },
  {
   "cell_type": "code",
   "execution_count": null,
   "metadata": {
    "_uuid": "5fbfe2925d919c3cd447ea5be5ca15f78c238b22"
   },
   "outputs": [],
   "source": [
    "class_counts = labels.Id.value_counts(sort=True, ascending=True)\n",
    "print(f'The number of images: {class_counts.sum():,}')\n",
    "print('{}'.format('='*20))\n",
    "print(f'Number of classes with only one image: {sum(class_counts == 1):,}')\n",
    "print(f'Percentage of classes with one image: {sum(class_counts == 1)/len(labels.Id.unique()):.0%}')\n",
    "print('{}'.format('='*20))\n",
    "print(f'Number of new_whate image: {class_counts[\"new_whale\"].sum():,}')\n",
    "print(f'Percentage of images are new_whale: {class_counts[\"new_whale\"]/class_counts.sum()*100:0.0f}%')"
   ]
  },
  {
   "cell_type": "code",
   "execution_count": null,
   "metadata": {
    "_uuid": "577aa1b24078460004dacf5c6d9d15228d935e48"
   },
   "outputs": [],
   "source": [
    "class_counts[::-1][:5]  # top five most common class"
   ]
  },
  {
   "cell_type": "markdown",
   "metadata": {
    "_uuid": "59a6fb12365d70d808e92e91d642ed94c108dc5c"
   },
   "source": [
    "## Stratified Split"
   ]
  },
  {
   "cell_type": "code",
   "execution_count": null,
   "metadata": {
    "_uuid": "f5e6dd414dd4daa7bf1bde08ce57d2e3f5a9eecd"
   },
   "outputs": [],
   "source": [
    "start_time = time.time()\n",
    "## stratify sampling that can handle \n",
    "train_idx, val_idx = pd.Series(), pd.Series()\n",
    "for name, group in labels.reset_index()[['index', 'Id']].groupby(['Id']):\n",
    "    ## if a class only have 1 sample, just return that one\n",
    "    if group.shape[0] == 1:\n",
    "        train, val = group['index'], []\n",
    "    ## split each group randomly and obtain their index\n",
    "    else:\n",
    "        train, val = train_test_split(group['index'], test_size=0.2, random_state=None)\n",
    "    train_idx = train_idx.append(train)\n",
    "    val_idx = val_idx.append(val)\n",
    "    \n",
    "print(f'It took {int(time.time() - start_time)} seconds')"
   ]
  },
  {
   "cell_type": "code",
   "execution_count": null,
   "metadata": {
    "_uuid": "913de72bffa3d29675a0499f823ebc5000431dd5"
   },
   "outputs": [],
   "source": [
    "train_idx.head()"
   ]
  },
  {
   "cell_type": "code",
   "execution_count": null,
   "metadata": {
    "_uuid": "ec50362db3536ff851610cb5de99c95b9538336b"
   },
   "outputs": [],
   "source": [
    "## assess that the number of class are all accounted for in the training indexing\n",
    "assert len(labels.loc[train_idx, 'Id'].unique()) == len(labels.Id.unique())\n",
    "print('Number of class {}: {}'.format(len(labels.loc[train_idx, 'Id'].unique()), len(labels['Id'].unique())))\n",
    "print('Percent of training split: {:.0%}'.format(len(train_idx)/labels.shape[0]))"
   ]
  },
  {
   "cell_type": "markdown",
   "metadata": {
    "_uuid": "9713210885fabd5cb185a1930677156e4a244418"
   },
   "source": [
    "## Create ImageDataBunch"
   ]
  },
  {
   "cell_type": "code",
   "execution_count": null,
   "metadata": {
    "_uuid": "ec7d6e12f2efe51b02b24fbbf8af9cbcca1b1138"
   },
   "outputs": [],
   "source": [
    "tfms = get_transforms(flip_vert=False, max_zoom=1)  ## remove vertical and zooming\n",
    "if verbose: tfms  ## list of transformations done to the images. tfms[0] is for training and tfms[1] is for validation"
   ]
  },
  {
   "cell_type": "code",
   "execution_count": null,
   "metadata": {
    "_uuid": "678110c86156f60e6d16be39cae293dd365de50c"
   },
   "outputs": [],
   "source": [
    "src = (ImageItemList.from_df(path=data_fp, df=labels, cols='Image', folder='train')\n",
    "                     # images' filepath are in a dataframe with column name 'Image'\n",
    "                    .split_by_idx(val_idx)\n",
    "                    # validations are not random and determined by the row indices\n",
    "                    .label_from_df(cols='Id')\n",
    "                    # classes for the images are in a dataframe with column name 'Id'\n",
    "                    .add_test_folder())\n",
    "                    # images to be use for inferences to the kaggle competition\n",
    "if verbose: print(f'Type({type(src)})')\n",
    "if verbose : print(src)  # show a summary of the datasets"
   ]
  },
  {
   "cell_type": "code",
   "execution_count": null,
   "metadata": {
    "_uuid": "33369a94c55028baa3a4482b616cc7be56967965"
   },
   "outputs": [],
   "source": [
    "def get_data(size, bs, padding_mode='reflection'):\n",
    "    return (src.transform(tfms, \n",
    "                          size=size,\n",
    "                          resize_method=ResizeMethod.PAD,\n",
    "                          padding_mode=padding_mode)\n",
    "                .databunch(bs=bs, num_workers=num_workers)\n",
    "                # creates a dataloader\n",
    "                .normalize(imagenet_stats))\n",
    "                # normalize the whale images with imagenet's mean and std because we are using a pretrained model"
   ]
  },
  {
   "cell_type": "code",
   "execution_count": null,
   "metadata": {
    "_uuid": "727d2d879614892d83ff9b51b26cb006dd4c65a0"
   },
   "outputs": [],
   "source": [
    "data = get_data(image_size, bs, 'border')"
   ]
  },
  {
   "cell_type": "code",
   "execution_count": null,
   "metadata": {
    "_uuid": "e9bcab0235c78aa51cdad3e97dd514faa2659ede"
   },
   "outputs": [],
   "source": [
    "# Display examples of the transformation on a single image\n",
    "def _plot(i,j,ax):\n",
    "    x,y = data.train_ds[idx]\n",
    "    x.show(ax,y=y)\n",
    "\n",
    "idx = np.random.randint(len(data.train_ds))\n",
    "plot_multi(_plot, 3, 3, figsize=(8,8))  ## show how the image is being transformed"
   ]
  },
  {
   "cell_type": "code",
   "execution_count": null,
   "metadata": {
    "_uuid": "17b477a5efd0000338f86bf4df7bd24afa74e055"
   },
   "outputs": [],
   "source": [
    "open_image(data.train_ds.items[idx])  ## orginal image"
   ]
  },
  {
   "cell_type": "code",
   "execution_count": null,
   "metadata": {
    "_uuid": "632ff562fe1547f84deef0ac5f258632dfb32cdf"
   },
   "outputs": [],
   "source": [
    "#data.show_batch(rows=2, figsize=(8,8))  # this crashes the kernel"
   ]
  },
  {
   "cell_type": "markdown",
   "metadata": {
    "_uuid": "31a27195f3e6beb49ac99d252aa2f4e5b7243118"
   },
   "source": [
    "## Training"
   ]
  },
  {
   "cell_type": "code",
   "execution_count": null,
   "metadata": {
    "_uuid": "3b879a988a8175ba5142c8f38006d430c2d1304d"
   },
   "outputs": [],
   "source": [
    "def mapr(input: torch.Tensor, targs: torch.LongTensor, mapn: int):\n",
    "    \"Compute the mean average precision\"\n",
    "    n = targs.shape[0]  # number for samples\n",
    "    input = input.argsort(dim=-1, descending=True)[:,:mapn]\n",
    "    targs = targs.view(n, -1)\n",
    "    return ((input == targs).float()/torch.arange(1,mapn+1, device=input.device).float()).sum(dim=-1).mean()\n",
    "\n",
    "map5 = partial(mapr, mapn=5)"
   ]
  },
  {
   "cell_type": "code",
   "execution_count": null,
   "metadata": {
    "_uuid": "59f8868085fa5a93c4784394fe2b87da5b90daff"
   },
   "outputs": [],
   "source": [
    "learn = create_cnn(data=data, arch=models.resnet50, metrics=[accuracy, map5], model_dir = '/tmp/models')\n",
    "# make sure your kernel has internet access\n",
    "# model_dir is needed because it will try to make a models in the input folder which is Read-Only"
   ]
  },
  {
   "cell_type": "code",
   "execution_count": null,
   "metadata": {
    "_uuid": "1f9e1a70d3b3ba325f26ed50f61bf3ff63991738"
   },
   "outputs": [],
   "source": [
    "learn.lr_find()\n",
    "learn.recorder.plot()"
   ]
  },
  {
   "cell_type": "code",
   "execution_count": null,
   "metadata": {
    "_uuid": "587a7051109e331580c43420d661a49b75c757a3"
   },
   "outputs": [],
   "source": [
    "learn.fit(10)"
   ]
  },
  {
   "cell_type": "code",
   "execution_count": null,
   "metadata": {
    "_uuid": "cac9e6e39ea6d3102dd1d86ff422e03f8f8c6984"
   },
   "outputs": [],
   "source": [
    "learn.recorder.plot_losses()"
   ]
  },
  {
   "cell_type": "code",
   "execution_count": null,
   "metadata": {
    "_uuid": "fa063fdcce20b82ea0b22df4c9a4a0d158daf91c"
   },
   "outputs": [],
   "source": [
    "learn.recorder.plot_lr(show_moms=True)"
   ]
  },
  {
   "cell_type": "code",
   "execution_count": null,
   "metadata": {
    "_uuid": "5436358057434e6ffbac704549943e9944488cde"
   },
   "outputs": [],
   "source": [
    "learn.unfreeze()\n",
    "learn.fit(10)"
   ]
  },
  {
   "cell_type": "code",
   "execution_count": null,
   "metadata": {
    "_uuid": "7215f498f6194cd987a5cc85467570aa8d8b535c"
   },
   "outputs": [],
   "source": [
    "learn.recorder.plot_losses()"
   ]
  },
  {
   "cell_type": "code",
   "execution_count": null,
   "metadata": {
    "_uuid": "a9a58043bf813245e3eee1af411dea7cf32f5942"
   },
   "outputs": [],
   "source": [
    "pred, _ = learn.get_preds(ds_type=DatasetType.Test)"
   ]
  },
  {
   "cell_type": "code",
   "execution_count": null,
   "metadata": {
    "_uuid": "78a890bae439424ab1410fd26102c96f95178335"
   },
   "outputs": [],
   "source": [
    "def create_submission(preds, data, path, name, mapn=5):\n",
    "    preds_sort = preds.argsort(dim=-1, descending=True)[:,:mapn]\n",
    "    cls_np = np.asarray(data.classes)\n",
    "    (pd.DataFrame({\"Image\": [fn.name for fn in data.test_ds.items],\n",
    "                  \"Id\": [\" \".join(cls_np[idx]) for idx in preds_sort.numpy()]})\n",
    "        .to_csv(path/name, index=False))"
   ]
  },
  {
   "cell_type": "code",
   "execution_count": null,
   "metadata": {
    "_uuid": "9ab706bc9785292ffbe21949da8a11de3577a3ed"
   },
   "outputs": [],
   "source": [
    "sub_fp = Path(\".\")"
   ]
  },
  {
   "cell_type": "code",
   "execution_count": null,
   "metadata": {
    "_uuid": "a10d0f53d0c74a447f9358cc50e27109bd13e4dc"
   },
   "outputs": [],
   "source": [
    "create_submission(pred, learn.data, sub_fp,'testing2.csv')"
   ]
  },
  {
   "cell_type": "code",
   "execution_count": null,
   "metadata": {
    "_uuid": "fc86cba701e9f754cdb43d934031825aedf2299f"
   },
   "outputs": [],
   "source": [
    "pd.read_csv(sub_fp/'testing2.csv').head()"
   ]
  },
  {
   "cell_type": "code",
   "execution_count": null,
   "metadata": {
    "_uuid": "e31d61fda80103a65a50f36cd4a0834bab5814af"
   },
   "outputs": [],
   "source": [
    "# !df -h  # display compute specs"
   ]
  }
 ],
 "metadata": {
  "kernelspec": {
   "display_name": "Python 3",
   "language": "python",
   "name": "python3"
  },
  "language_info": {
   "codemirror_mode": {
    "name": "ipython",
    "version": 3
   },
   "file_extension": ".py",
   "mimetype": "text/x-python",
   "name": "python",
   "nbconvert_exporter": "python",
   "pygments_lexer": "ipython3",
   "version": "3.7.1"
  }
 },
 "nbformat": 4,
 "nbformat_minor": 2
}
