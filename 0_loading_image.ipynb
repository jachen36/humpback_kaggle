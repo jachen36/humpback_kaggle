{
 "cells": [
  {
   "cell_type": "markdown",
   "metadata": {},
   "source": [
    "## How to efficiently load images?"
   ]
  },
  {
   "cell_type": "code",
   "execution_count": 1,
   "metadata": {},
   "outputs": [],
   "source": [
    "import fastai\n",
    "from fastai import *\n",
    "from fastai.vision import *\n",
    "import utils  # person functions\n",
    "import os\n",
    "%matplotlib inline"
   ]
  },
  {
   "cell_type": "code",
   "execution_count": 2,
   "metadata": {},
   "outputs": [],
   "source": [
    "# global variables\n",
    "restart_run = True                 # start from scratch\n",
    "labels='train_stratified_split.csv'\n",
    "padding_mode='border'\n",
    "param_baseline = {'experiment': 'baseline', \n",
    "                  'image_size': 224, \n",
    "                  'batch_size': 32, \n",
    "                  'num_workers':0, \n",
    "                  'folder':'train'}"
   ]
  },
  {
   "cell_type": "code",
   "execution_count": 3,
   "metadata": {},
   "outputs": [],
   "source": [
    "def load_train_image(data):\n",
    "    'Just load the data and nothing else'\n",
    "    for i, batch in enumerate(data.train_dl): \n",
    "        pass\n",
    "\n",
    "def get_data(params):\n",
    "    'wrapper function for parameter settings'\n",
    "    return utils.get_data(size=param['image_size'], \n",
    "                          bs=param['batch_size'], \n",
    "                          csv=labels, \n",
    "                          folder=param['folder'], \n",
    "                          num_workers=param['num_workers'], \n",
    "                          padding_mode=padding_mode)"
   ]
  },
  {
   "cell_type": "code",
   "execution_count": 4,
   "metadata": {},
   "outputs": [
    {
     "data": {
      "text/plain": [
       "['TfmCrop', 'TfmPixel', 'TfmCoord', 'TfmAffine', 'TfmLighting', 'TfmLighting']"
      ]
     },
     "execution_count": 4,
     "metadata": {},
     "output_type": "execute_result"
    }
   ],
   "source": [
    "tfms = get_transforms(flip_vert=False, max_zoom=1);\n",
    "[i.tfm.name for i in tfms[0]]  # transformation done on training data set"
   ]
  },
  {
   "cell_type": "code",
   "execution_count": 5,
   "metadata": {},
   "outputs": [
    {
     "data": {
      "text/plain": [
       "\u001b[0;31mSignature:\u001b[0m\n",
       "\u001b[0mvision\u001b[0m\u001b[0;34m.\u001b[0m\u001b[0mtransform\u001b[0m\u001b[0;34m.\u001b[0m\u001b[0m_crop_pad\u001b[0m\u001b[0;34m(\u001b[0m\u001b[0;34m\u001b[0m\n",
       "\u001b[0;34m\u001b[0m    \u001b[0mx\u001b[0m\u001b[0;34m,\u001b[0m\u001b[0;34m\u001b[0m\n",
       "\u001b[0;34m\u001b[0m    \u001b[0msize\u001b[0m\u001b[0;34m,\u001b[0m\u001b[0;34m\u001b[0m\n",
       "\u001b[0;34m\u001b[0m    \u001b[0mpadding_mode\u001b[0m\u001b[0;34m=\u001b[0m\u001b[0;34m'reflection'\u001b[0m\u001b[0;34m,\u001b[0m\u001b[0;34m\u001b[0m\n",
       "\u001b[0;34m\u001b[0m    \u001b[0mrow_pct\u001b[0m\u001b[0;34m:\u001b[0m \u001b[0;34m<\u001b[0m\u001b[0mfunction\u001b[0m \u001b[0muniform\u001b[0m \u001b[0mat\u001b[0m \u001b[0;36m0x7f0db521e0d0\u001b[0m\u001b[0;34m>\u001b[0m \u001b[0;34m=\u001b[0m \u001b[0;36m0.5\u001b[0m\u001b[0;34m,\u001b[0m\u001b[0;34m\u001b[0m\n",
       "\u001b[0;34m\u001b[0m    \u001b[0mcol_pct\u001b[0m\u001b[0;34m:\u001b[0m \u001b[0;34m<\u001b[0m\u001b[0mfunction\u001b[0m \u001b[0muniform\u001b[0m \u001b[0mat\u001b[0m \u001b[0;36m0x7f0db521e0d0\u001b[0m\u001b[0;34m>\u001b[0m \u001b[0;34m=\u001b[0m \u001b[0;36m0.5\u001b[0m\u001b[0;34m,\u001b[0m\u001b[0;34m\u001b[0m\n",
       "\u001b[0;34m\u001b[0m\u001b[0;34m)\u001b[0m \u001b[0;34m->\u001b[0m \u001b[0mfastai\u001b[0m\u001b[0;34m.\u001b[0m\u001b[0mvision\u001b[0m\u001b[0;34m.\u001b[0m\u001b[0mimage\u001b[0m\u001b[0;34m.\u001b[0m\u001b[0mImage\u001b[0m\u001b[0;34m\u001b[0m\u001b[0;34m\u001b[0m\u001b[0m\n",
       "\u001b[0;31mDocstring:\u001b[0m <no docstring>\n",
       "\u001b[0;31mSource:\u001b[0m   \n",
       "\u001b[0;32mdef\u001b[0m \u001b[0m_crop_pad\u001b[0m\u001b[0;34m(\u001b[0m\u001b[0mx\u001b[0m\u001b[0;34m,\u001b[0m \u001b[0msize\u001b[0m\u001b[0;34m,\u001b[0m \u001b[0mpadding_mode\u001b[0m\u001b[0;34m=\u001b[0m\u001b[0;34m'reflection'\u001b[0m\u001b[0;34m,\u001b[0m \u001b[0mrow_pct\u001b[0m\u001b[0;34m:\u001b[0m\u001b[0muniform\u001b[0m \u001b[0;34m=\u001b[0m \u001b[0;36m0.5\u001b[0m\u001b[0;34m,\u001b[0m \u001b[0mcol_pct\u001b[0m\u001b[0;34m:\u001b[0m\u001b[0muniform\u001b[0m \u001b[0;34m=\u001b[0m \u001b[0;36m0.5\u001b[0m\u001b[0;34m)\u001b[0m\u001b[0;34m:\u001b[0m\u001b[0;34m\u001b[0m\n",
       "\u001b[0;34m\u001b[0m    \u001b[0mf_crop_pad\u001b[0m \u001b[0;34m=\u001b[0m \u001b[0m_crop_pad_image_points\u001b[0m \u001b[0;32mif\u001b[0m \u001b[0misinstance\u001b[0m\u001b[0;34m(\u001b[0m\u001b[0mx\u001b[0m\u001b[0;34m,\u001b[0m \u001b[0mImagePoints\u001b[0m\u001b[0;34m)\u001b[0m \u001b[0;32melse\u001b[0m \u001b[0m_crop_pad_default\u001b[0m\u001b[0;34m\u001b[0m\n",
       "\u001b[0;34m\u001b[0m    \u001b[0;32mreturn\u001b[0m \u001b[0mf_crop_pad\u001b[0m\u001b[0;34m(\u001b[0m\u001b[0mx\u001b[0m\u001b[0;34m,\u001b[0m \u001b[0msize\u001b[0m\u001b[0;34m,\u001b[0m \u001b[0mpadding_mode\u001b[0m\u001b[0;34m,\u001b[0m \u001b[0mrow_pct\u001b[0m\u001b[0;34m,\u001b[0m \u001b[0mcol_pct\u001b[0m\u001b[0;34m)\u001b[0m\u001b[0;34m\u001b[0m\u001b[0;34m\u001b[0m\u001b[0m\n",
       "\u001b[0;31mFile:\u001b[0m      ~/anaconda3/lib/python3.7/site-packages/fastai/vision/transform.py\n",
       "\u001b[0;31mType:\u001b[0m      function\n"
      ]
     },
     "metadata": {},
     "output_type": "display_data"
    }
   ],
   "source": [
    "# first step is to resize the image\n",
    "vision.transform._crop_pad??"
   ]
  },
  {
   "cell_type": "code",
   "execution_count": 6,
   "metadata": {},
   "outputs": [],
   "source": [
    "if utils.data_fp.exists() & ~restart_run:\n",
    "    exp_param = pd.read_csv(utils.data_fp/'loading_runtime.csv')\n",
    "else:\n",
    "    exp_param = pd.DataFrame(columns=['experiment', 'image_size', 'batch_size', 'num_workers', 'folder', 'avg', 'stdev'])"
   ]
  },
  {
   "cell_type": "markdown",
   "metadata": {},
   "source": [
    "## Baseline: Loading unprocessed images\n",
    "How long does it take to load images from a dataloader with all the transformation?"
   ]
  },
  {
   "cell_type": "code",
   "execution_count": 7,
   "metadata": {},
   "outputs": [],
   "source": [
    "param = param_baseline.copy()"
   ]
  },
  {
   "cell_type": "markdown",
   "metadata": {},
   "source": [
    "should insert code to warm up the cpu before running test that will be recorded. "
   ]
  },
  {
   "cell_type": "code",
   "execution_count": 8,
   "metadata": {},
   "outputs": [
    {
     "name": "stdout",
     "output_type": "stream",
     "text": [
      "5min 50s ± 10.7 s per loop (mean ± std. dev. of 3 runs, 1 loop each)\n"
     ]
    }
   ],
   "source": [
    "result = %timeit -n1 -r3 -o load_train_image(get_data(param))"
   ]
  },
  {
   "cell_type": "code",
   "execution_count": 9,
   "metadata": {},
   "outputs": [],
   "source": [
    "param['avg'], param['stdev'] = result.average, result.stdev"
   ]
  },
  {
   "cell_type": "code",
   "execution_count": 10,
   "metadata": {},
   "outputs": [],
   "source": [
    "exp_param = exp_param.append(param, ignore_index=True)"
   ]
  },
  {
   "cell_type": "markdown",
   "metadata": {},
   "source": [
    "Each time I restart my computer, I rerun below code to warm the computer up and to see how much variance there are with the timing. "
   ]
  },
  {
   "cell_type": "code",
   "execution_count": 11,
   "metadata": {},
   "outputs": [
    {
     "name": "stdout",
     "output_type": "stream",
     "text": [
      "5min 43s ± 187 ms per loop (mean ± std. dev. of 3 runs, 1 loop each)\n"
     ]
    }
   ],
   "source": [
    "param = param_baseline.copy()\n",
    "param['experiment'] = 'baseline2'\n",
    "result = %timeit -n1 -r3 -o load_train_image(get_data(param))\n",
    "param['avg'], param['stdev'] = result.average, result.stdev\n",
    "exp_param = exp_param.append(param, ignore_index=True)"
   ]
  },
  {
   "cell_type": "markdown",
   "metadata": {},
   "source": [
    "## Experiment 1: Number of workers\n",
    "How does the number of worker impact loading of the data?  \n",
    "Are there a limit before overhead becomes not worth it?"
   ]
  },
  {
   "cell_type": "code",
   "execution_count": 12,
   "metadata": {},
   "outputs": [],
   "source": [
    "workers_ls = [1,2,3,4,5,6,defaults.cpus,20]\n",
    "param = param_baseline.copy()\n",
    "param['experiment'] = 'number of workers'"
   ]
  },
  {
   "cell_type": "code",
   "execution_count": 13,
   "metadata": {},
   "outputs": [
    {
     "name": "stdout",
     "output_type": "stream",
     "text": [
      "Workers: 1\n",
      "5min 59s ± 739 ms per loop (mean ± std. dev. of 3 runs, 1 loop each)\n",
      "Workers: 2\n",
      "3min 7s ± 262 ms per loop (mean ± std. dev. of 3 runs, 1 loop each)\n",
      "Workers: 3\n",
      "2min 15s ± 134 ms per loop (mean ± std. dev. of 3 runs, 1 loop each)\n",
      "Workers: 4\n",
      "1min 49s ± 196 ms per loop (mean ± std. dev. of 3 runs, 1 loop each)\n",
      "Workers: 5\n",
      "1min 36s ± 387 ms per loop (mean ± std. dev. of 3 runs, 1 loop each)\n",
      "Workers: 6\n",
      "1min 29s ± 313 ms per loop (mean ± std. dev. of 3 runs, 1 loop each)\n",
      "Workers: 12\n",
      "1min 21s ± 20.2 ms per loop (mean ± std. dev. of 3 runs, 1 loop each)\n",
      "Workers: 20\n",
      "1min 21s ± 129 ms per loop (mean ± std. dev. of 3 runs, 1 loop each)\n"
     ]
    }
   ],
   "source": [
    "for x in workers_ls:\n",
    "    print(f'Workers: {x}')\n",
    "    param['num_workers'] = x\n",
    "    result = %timeit -n1 -r3 -o load_train_image(get_data(param))\n",
    "    param['avg'], param['stdev'] = result.average, result.stdev\n",
    "    exp_param = exp_param.append(param, ignore_index=True)"
   ]
  },
  {
   "cell_type": "code",
   "execution_count": 14,
   "metadata": {},
   "outputs": [
    {
     "data": {
      "text/html": [
       "<div>\n",
       "<style scoped>\n",
       "    .dataframe tbody tr th:only-of-type {\n",
       "        vertical-align: middle;\n",
       "    }\n",
       "\n",
       "    .dataframe tbody tr th {\n",
       "        vertical-align: top;\n",
       "    }\n",
       "\n",
       "    .dataframe thead tr th {\n",
       "        text-align: left;\n",
       "    }\n",
       "\n",
       "    .dataframe thead tr:last-of-type th {\n",
       "        text-align: right;\n",
       "    }\n",
       "</style>\n",
       "<table border=\"1\" class=\"dataframe\">\n",
       "  <thead>\n",
       "    <tr>\n",
       "      <th></th>\n",
       "      <th colspan=\"2\" halign=\"left\">avg</th>\n",
       "      <th colspan=\"2\" halign=\"left\">stdev</th>\n",
       "    </tr>\n",
       "    <tr>\n",
       "      <th>experiment</th>\n",
       "      <th>baseline</th>\n",
       "      <th>number of workers</th>\n",
       "      <th>baseline</th>\n",
       "      <th>number of workers</th>\n",
       "    </tr>\n",
       "    <tr>\n",
       "      <th>num_workers</th>\n",
       "      <th></th>\n",
       "      <th></th>\n",
       "      <th></th>\n",
       "      <th></th>\n",
       "    </tr>\n",
       "  </thead>\n",
       "  <tbody>\n",
       "    <tr>\n",
       "      <th>0</th>\n",
       "      <td>5.838139</td>\n",
       "      <td>NaN</td>\n",
       "      <td>0.17804</td>\n",
       "      <td>NaN</td>\n",
       "    </tr>\n",
       "    <tr>\n",
       "      <th>1</th>\n",
       "      <td>NaN</td>\n",
       "      <td>5.997388</td>\n",
       "      <td>NaN</td>\n",
       "      <td>0.012318</td>\n",
       "    </tr>\n",
       "    <tr>\n",
       "      <th>2</th>\n",
       "      <td>NaN</td>\n",
       "      <td>3.123635</td>\n",
       "      <td>NaN</td>\n",
       "      <td>0.004359</td>\n",
       "    </tr>\n",
       "    <tr>\n",
       "      <th>3</th>\n",
       "      <td>NaN</td>\n",
       "      <td>2.260051</td>\n",
       "      <td>NaN</td>\n",
       "      <td>0.002225</td>\n",
       "    </tr>\n",
       "    <tr>\n",
       "      <th>4</th>\n",
       "      <td>NaN</td>\n",
       "      <td>1.828755</td>\n",
       "      <td>NaN</td>\n",
       "      <td>0.003260</td>\n",
       "    </tr>\n",
       "    <tr>\n",
       "      <th>5</th>\n",
       "      <td>NaN</td>\n",
       "      <td>1.605044</td>\n",
       "      <td>NaN</td>\n",
       "      <td>0.006452</td>\n",
       "    </tr>\n",
       "    <tr>\n",
       "      <th>6</th>\n",
       "      <td>NaN</td>\n",
       "      <td>1.483398</td>\n",
       "      <td>NaN</td>\n",
       "      <td>0.005219</td>\n",
       "    </tr>\n",
       "    <tr>\n",
       "      <th>12</th>\n",
       "      <td>NaN</td>\n",
       "      <td>1.355906</td>\n",
       "      <td>NaN</td>\n",
       "      <td>0.000336</td>\n",
       "    </tr>\n",
       "    <tr>\n",
       "      <th>20</th>\n",
       "      <td>NaN</td>\n",
       "      <td>1.357462</td>\n",
       "      <td>NaN</td>\n",
       "      <td>0.002154</td>\n",
       "    </tr>\n",
       "  </tbody>\n",
       "</table>\n",
       "</div>"
      ],
      "text/plain": [
       "                  avg                      stdev                  \n",
       "experiment   baseline number of workers baseline number of workers\n",
       "num_workers                                                       \n",
       "0            5.838139               NaN  0.17804               NaN\n",
       "1                 NaN          5.997388      NaN          0.012318\n",
       "2                 NaN          3.123635      NaN          0.004359\n",
       "3                 NaN          2.260051      NaN          0.002225\n",
       "4                 NaN          1.828755      NaN          0.003260\n",
       "5                 NaN          1.605044      NaN          0.006452\n",
       "6                 NaN          1.483398      NaN          0.005219\n",
       "12                NaN          1.355906      NaN          0.000336\n",
       "20                NaN          1.357462      NaN          0.002154"
      ]
     },
     "execution_count": 14,
     "metadata": {},
     "output_type": "execute_result"
    }
   ],
   "source": [
    "compare = exp_param[exp_param.experiment.isin(['baseline', 'number of workers'])];\n",
    "compare = compare.pivot('num_workers', 'experiment', ['avg', 'stdev'])/60; \n",
    "compare"
   ]
  },
  {
   "cell_type": "code",
   "execution_count": 15,
   "metadata": {},
   "outputs": [
    {
     "data": {
      "image/png": "[encoded data removed]",
      "text/plain": [
       "<Figure size 432x288 with 1 Axes>"
      ]
     },
     "metadata": {
      "needs_background": "light"
     },
     "output_type": "display_data"
    }
   ],
   "source": [
    "ax = compare.avg.plot(kind='bar', yerr=[compare.stdev.baseline, compare.stdev['number of workers']])\n",
    "ax.set_title('Does Number of Workers improve loading?')\n",
    "ax.set_ylabel('Run Time (min)');"
   ]
  },
  {
   "cell_type": "code",
   "execution_count": 16,
   "metadata": {},
   "outputs": [
    {
     "name": "stdout",
     "output_type": "stream",
     "text": [
      "6min 1s ± 260 ms per loop (mean ± std. dev. of 3 runs, 1 loop each)\n"
     ]
    }
   ],
   "source": [
    "# Rerun number of workers = 1 because to double check that the increase is true. \n",
    "param = param_baseline.copy()\n",
    "param['num_workers'] = 1\n",
    "%timeit -n1 -r3 load_train_image(get_data(param))"
   ]
  },
  {
   "cell_type": "markdown",
   "metadata": {},
   "source": [
    "**Conclusion**: Yes, number of workers does improve loading. However, the improvement greatly decrease after value is 2. Interestingly setting number of workers to 1 takes longer. "
   ]
  },
  {
   "cell_type": "markdown",
   "metadata": {},
   "source": [
    "## Experiment 2: Batch Size\n",
    "\n",
    "Batch size shouldn't impact the time because the amount of work is the same. But what if there is an interaction between num_workers and batch_size. Larger batchsize allow for better use of subprocess?"
   ]
  },
  {
   "cell_type": "code",
   "execution_count": 17,
   "metadata": {},
   "outputs": [],
   "source": [
    "batch_ls = [1, 8, 16, 32, 64, 128]\n",
    "param = param_baseline.copy()\n",
    "param['experiment'] = 'batch_size'"
   ]
  },
  {
   "cell_type": "markdown",
   "metadata": {},
   "source": [
    "num_worker = 0, the cpu usage is 50%. "
   ]
  },
  {
   "cell_type": "code",
   "execution_count": 18,
   "metadata": {},
   "outputs": [
    {
     "name": "stdout",
     "output_type": "stream",
     "text": [
      "Batch Size: 1\n",
      "5min 49s ± 623 ms per loop (mean ± std. dev. of 3 runs, 1 loop each)\n",
      "Batch Size: 8\n",
      "5min 42s ± 3.2 s per loop (mean ± std. dev. of 3 runs, 1 loop each)\n",
      "Batch Size: 16\n",
      "5min 44s ± 305 ms per loop (mean ± std. dev. of 3 runs, 1 loop each)\n",
      "Batch Size: 32\n",
      "5min 44s ± 1.06 s per loop (mean ± std. dev. of 3 runs, 1 loop each)\n",
      "Batch Size: 64\n",
      "5min 45s ± 662 ms per loop (mean ± std. dev. of 3 runs, 1 loop each)\n",
      "Batch Size: 128\n",
      "5min 47s ± 832 ms per loop (mean ± std. dev. of 3 runs, 1 loop each)\n"
     ]
    }
   ],
   "source": [
    "for x in batch_ls:\n",
    "    print(f'Batch Size: {x}')\n",
    "    param['batch_size'] = x\n",
    "    result = %timeit -n1 -r3 -o load_train_image(get_data(param))\n",
    "    param['avg'], param['stdev'] = result.average, result.stdev\n",
    "    exp_param = exp_param.append(param, ignore_index=True)"
   ]
  },
  {
   "cell_type": "code",
   "execution_count": 19,
   "metadata": {},
   "outputs": [
    {
     "data": {
      "text/html": [
       "<div>\n",
       "<style scoped>\n",
       "    .dataframe tbody tr th:only-of-type {\n",
       "        vertical-align: middle;\n",
       "    }\n",
       "\n",
       "    .dataframe tbody tr th {\n",
       "        vertical-align: top;\n",
       "    }\n",
       "\n",
       "    .dataframe thead tr th {\n",
       "        text-align: left;\n",
       "    }\n",
       "\n",
       "    .dataframe thead tr:last-of-type th {\n",
       "        text-align: right;\n",
       "    }\n",
       "</style>\n",
       "<table border=\"1\" class=\"dataframe\">\n",
       "  <thead>\n",
       "    <tr>\n",
       "      <th></th>\n",
       "      <th colspan=\"2\" halign=\"left\">avg</th>\n",
       "      <th colspan=\"2\" halign=\"left\">stdev</th>\n",
       "    </tr>\n",
       "    <tr>\n",
       "      <th>experiment</th>\n",
       "      <th>baseline</th>\n",
       "      <th>batch_size</th>\n",
       "      <th>baseline</th>\n",
       "      <th>batch_size</th>\n",
       "    </tr>\n",
       "    <tr>\n",
       "      <th>batch_size</th>\n",
       "      <th></th>\n",
       "      <th></th>\n",
       "      <th></th>\n",
       "      <th></th>\n",
       "    </tr>\n",
       "  </thead>\n",
       "  <tbody>\n",
       "    <tr>\n",
       "      <th>1</th>\n",
       "      <td>NaN</td>\n",
       "      <td>5.818094</td>\n",
       "      <td>NaN</td>\n",
       "      <td>0.010385</td>\n",
       "    </tr>\n",
       "    <tr>\n",
       "      <th>8</th>\n",
       "      <td>NaN</td>\n",
       "      <td>5.702935</td>\n",
       "      <td>NaN</td>\n",
       "      <td>0.053393</td>\n",
       "    </tr>\n",
       "    <tr>\n",
       "      <th>16</th>\n",
       "      <td>NaN</td>\n",
       "      <td>5.744699</td>\n",
       "      <td>NaN</td>\n",
       "      <td>0.005083</td>\n",
       "    </tr>\n",
       "    <tr>\n",
       "      <th>32</th>\n",
       "      <td>5.838139</td>\n",
       "      <td>5.742056</td>\n",
       "      <td>0.17804</td>\n",
       "      <td>0.017598</td>\n",
       "    </tr>\n",
       "    <tr>\n",
       "      <th>64</th>\n",
       "      <td>NaN</td>\n",
       "      <td>5.762257</td>\n",
       "      <td>NaN</td>\n",
       "      <td>0.011032</td>\n",
       "    </tr>\n",
       "    <tr>\n",
       "      <th>128</th>\n",
       "      <td>NaN</td>\n",
       "      <td>5.795878</td>\n",
       "      <td>NaN</td>\n",
       "      <td>0.013865</td>\n",
       "    </tr>\n",
       "  </tbody>\n",
       "</table>\n",
       "</div>"
      ],
      "text/plain": [
       "                 avg               stdev           \n",
       "experiment  baseline batch_size baseline batch_size\n",
       "batch_size                                         \n",
       "1                NaN   5.818094      NaN   0.010385\n",
       "8                NaN   5.702935      NaN   0.053393\n",
       "16               NaN   5.744699      NaN   0.005083\n",
       "32          5.838139   5.742056  0.17804   0.017598\n",
       "64               NaN   5.762257      NaN   0.011032\n",
       "128              NaN   5.795878      NaN   0.013865"
      ]
     },
     "execution_count": 19,
     "metadata": {},
     "output_type": "execute_result"
    }
   ],
   "source": [
    "compare = exp_param[exp_param.experiment.isin(['baseline', 'batch_size'])];\n",
    "compare = compare.pivot('batch_size', 'experiment', ['avg', 'stdev'])/60; compare"
   ]
  },
  {
   "cell_type": "code",
   "execution_count": 20,
   "metadata": {},
   "outputs": [
    {
     "data": {
      "image/png": "[encoded data removed]",
      "text/plain": [
       "<Figure size 432x288 with 1 Axes>"
      ]
     },
     "metadata": {
      "needs_background": "light"
     },
     "output_type": "display_data"
    }
   ],
   "source": [
    "ax = compare.avg.plot(kind='bar', yerr=[compare.stdev.baseline, compare.stdev.batch_size])\n",
    "ax.set_title('Does batch size impact loading?')\n",
    "ax.set_ylabel('Run Time (min)')\n",
    "ax.legend(bbox_to_anchor=(1.1, 1.05));"
   ]
  },
  {
   "cell_type": "markdown",
   "metadata": {},
   "source": [
    "Conclusion: I do not think this was a good experiment because using just the main processor, pytorch probably doesn't have enough flexibility to improve load time to be noticable. "
   ]
  },
  {
   "cell_type": "markdown",
   "metadata": {},
   "source": [
    "## Experiment 3: Batch size plus number of workers\n",
    "Since experiment 1 tested batch size of 32 and range of workers, this will just test with a larger batch size with the same range of workers. "
   ]
  },
  {
   "cell_type": "code",
   "execution_count": 21,
   "metadata": {},
   "outputs": [],
   "source": [
    "param = param_baseline.copy()\n",
    "param['experiment'] = 'batch_size_plus_workers'\n",
    "param['batch_size'] = 128   # it is unlikely my gpu will be able to fit larger batch than this"
   ]
  },
  {
   "cell_type": "code",
   "execution_count": 22,
   "metadata": {},
   "outputs": [
    {
     "name": "stdout",
     "output_type": "stream",
     "text": [
      "Workers: 1\n",
      "6min 2s ± 328 ms per loop (mean ± std. dev. of 3 runs, 1 loop each)\n",
      "Workers: 2\n",
      "3min 9s ± 357 ms per loop (mean ± std. dev. of 3 runs, 1 loop each)\n",
      "Workers: 3\n",
      "2min 18s ± 665 ms per loop (mean ± std. dev. of 3 runs, 1 loop each)\n",
      "Workers: 4\n",
      "1min 52s ± 104 ms per loop (mean ± std. dev. of 3 runs, 1 loop each)\n",
      "Workers: 5\n",
      "1min 38s ± 707 ms per loop (mean ± std. dev. of 3 runs, 1 loop each)\n",
      "Workers: 6\n",
      "1min 31s ± 437 ms per loop (mean ± std. dev. of 3 runs, 1 loop each)\n",
      "Workers: 12\n",
      "1min 23s ± 101 ms per loop (mean ± std. dev. of 3 runs, 1 loop each)\n",
      "Workers: 20\n",
      "1min 24s ± 176 ms per loop (mean ± std. dev. of 3 runs, 1 loop each)\n"
     ]
    }
   ],
   "source": [
    "for x in workers_ls:\n",
    "    print(f'Workers: {x}')\n",
    "    param['num_workers'] = x\n",
    "    result = %timeit -n1 -r3 -o load_train_image(get_data(param))\n",
    "    param['avg'], param['stdev'] = result.average, result.stdev\n",
    "    exp_param = exp_param.append(param, ignore_index=True)"
   ]
  },
  {
   "cell_type": "code",
   "execution_count": 23,
   "metadata": {},
   "outputs": [
    {
     "data": {
      "text/html": [
       "<div>\n",
       "<style scoped>\n",
       "    .dataframe tbody tr th:only-of-type {\n",
       "        vertical-align: middle;\n",
       "    }\n",
       "\n",
       "    .dataframe tbody tr th {\n",
       "        vertical-align: top;\n",
       "    }\n",
       "\n",
       "    .dataframe thead tr th {\n",
       "        text-align: left;\n",
       "    }\n",
       "\n",
       "    .dataframe thead tr:last-of-type th {\n",
       "        text-align: right;\n",
       "    }\n",
       "</style>\n",
       "<table border=\"1\" class=\"dataframe\">\n",
       "  <thead>\n",
       "    <tr>\n",
       "      <th></th>\n",
       "      <th colspan=\"2\" halign=\"left\">avg</th>\n",
       "      <th colspan=\"2\" halign=\"left\">stdev</th>\n",
       "    </tr>\n",
       "    <tr>\n",
       "      <th>batch_size</th>\n",
       "      <th>32</th>\n",
       "      <th>128</th>\n",
       "      <th>32</th>\n",
       "      <th>128</th>\n",
       "    </tr>\n",
       "    <tr>\n",
       "      <th>num_workers</th>\n",
       "      <th></th>\n",
       "      <th></th>\n",
       "      <th></th>\n",
       "      <th></th>\n",
       "    </tr>\n",
       "  </thead>\n",
       "  <tbody>\n",
       "    <tr>\n",
       "      <th>1</th>\n",
       "      <td>5.997388</td>\n",
       "      <td>6.041024</td>\n",
       "      <td>0.012318</td>\n",
       "      <td>0.005475</td>\n",
       "    </tr>\n",
       "    <tr>\n",
       "      <th>2</th>\n",
       "      <td>3.123635</td>\n",
       "      <td>3.161080</td>\n",
       "      <td>0.004359</td>\n",
       "      <td>0.005942</td>\n",
       "    </tr>\n",
       "    <tr>\n",
       "      <th>3</th>\n",
       "      <td>2.260051</td>\n",
       "      <td>2.303759</td>\n",
       "      <td>0.002225</td>\n",
       "      <td>0.011081</td>\n",
       "    </tr>\n",
       "    <tr>\n",
       "      <th>4</th>\n",
       "      <td>1.828755</td>\n",
       "      <td>1.866907</td>\n",
       "      <td>0.003260</td>\n",
       "      <td>0.001727</td>\n",
       "    </tr>\n",
       "    <tr>\n",
       "      <th>5</th>\n",
       "      <td>1.605044</td>\n",
       "      <td>1.645682</td>\n",
       "      <td>0.006452</td>\n",
       "      <td>0.011783</td>\n",
       "    </tr>\n",
       "    <tr>\n",
       "      <th>6</th>\n",
       "      <td>1.483398</td>\n",
       "      <td>1.528368</td>\n",
       "      <td>0.005219</td>\n",
       "      <td>0.007282</td>\n",
       "    </tr>\n",
       "    <tr>\n",
       "      <th>12</th>\n",
       "      <td>1.355906</td>\n",
       "      <td>1.395024</td>\n",
       "      <td>0.000336</td>\n",
       "      <td>0.001687</td>\n",
       "    </tr>\n",
       "    <tr>\n",
       "      <th>20</th>\n",
       "      <td>1.357462</td>\n",
       "      <td>1.402802</td>\n",
       "      <td>0.002154</td>\n",
       "      <td>0.002933</td>\n",
       "    </tr>\n",
       "  </tbody>\n",
       "</table>\n",
       "</div>"
      ],
      "text/plain": [
       "                  avg               stdev          \n",
       "batch_size        32        128       32        128\n",
       "num_workers                                        \n",
       "1            5.997388  6.041024  0.012318  0.005475\n",
       "2            3.123635  3.161080  0.004359  0.005942\n",
       "3            2.260051  2.303759  0.002225  0.011081\n",
       "4            1.828755  1.866907  0.003260  0.001727\n",
       "5            1.605044  1.645682  0.006452  0.011783\n",
       "6            1.483398  1.528368  0.005219  0.007282\n",
       "12           1.355906  1.395024  0.000336  0.001687\n",
       "20           1.357462  1.402802  0.002154  0.002933"
      ]
     },
     "execution_count": 23,
     "metadata": {},
     "output_type": "execute_result"
    }
   ],
   "source": [
    "compare = exp_param[exp_param.experiment.isin(['number of workers', 'batch_size_plus_workers'])]\n",
    "compare = compare.pivot('num_workers', 'batch_size', ['avg', 'stdev'])/60; compare"
   ]
  },
  {
   "cell_type": "code",
   "execution_count": 24,
   "metadata": {},
   "outputs": [
    {
     "data": {
      "image/png": "[encoded data removed]",
      "text/plain": [
       "<Figure size 432x288 with 1 Axes>"
      ]
     },
     "metadata": {
      "needs_background": "light"
     },
     "output_type": "display_data"
    }
   ],
   "source": [
    "compare.avg.plot(kind='bar', yerr=[compare.stdev[32], compare.stdev[128]])\n",
    "plt.title('Is there an interaction between Batch Size and Number of Workers')\n",
    "plt.xlabel('Number of Workers')\n",
    "plt.ylabel('Run Time (min)');"
   ]
  },
  {
   "cell_type": "markdown",
   "metadata": {},
   "source": [
    "## Experiment 4: Preprocess image by resizing and saving the result"
   ]
  },
  {
   "cell_type": "markdown",
   "metadata": {},
   "source": [
    "### Saving images as 224x224"
   ]
  },
  {
   "cell_type": "code",
   "execution_count": 25,
   "metadata": {},
   "outputs": [],
   "source": [
    "dest = utils.data_fp/'train_224'\n",
    "dest.mkdir(parents=True, exist_ok=True)\n",
    "il = ImageImageList.from_folder(utils.data_train)  # get the list of images in train folder"
   ]
  },
  {
   "cell_type": "code",
   "execution_count": 26,
   "metadata": {},
   "outputs": [],
   "source": [
    "def resize_tfms(fn, i):\n",
    "    img = vision.open_image(fn)\n",
    "    img = img.apply_tfms([vision.crop_pad()], size=224, resize_method=ResizeMethod.PAD, padding_mode='border')\n",
    "    img.save(dest/fn.name)"
   ]
  },
  {
   "cell_type": "code",
   "execution_count": 27,
   "metadata": {},
   "outputs": [
    {
     "data": {
      "text/html": [
       "\n",
       "    <div>\n",
       "        <style>\n",
       "            /* Turns off some styling */\n",
       "            progress {\n",
       "                /* gets rid of default border in Firefox and Opera. */\n",
       "                border: none;\n",
       "                /* Needs to be in here for Safari polyfill so background images work as expected. */\n",
       "                background-size: auto;\n",
       "            }\n",
       "            .progress-bar-interrupted, .progress-bar-interrupted::-webkit-progress-bar {\n",
       "                background: #F44336;\n",
       "            }\n",
       "        </style>\n",
       "      <progress value='25361' class='' max='25361', style='width:300px; height:20px; vertical-align: middle;'></progress>\n",
       "      100.00% [25361/25361 09:40<00:00]\n",
       "    </div>\n",
       "    "
      ],
      "text/plain": [
       "<IPython.core.display.HTML object>"
      ]
     },
     "metadata": {},
     "output_type": "display_data"
    },
    {
     "name": "stdout",
     "output_type": "stream",
     "text": [
      "CPU times: user 13.1 s, sys: 2.05 s, total: 15.2 s\n",
      "Wall time: 9min 41s\n"
     ]
    }
   ],
   "source": [
    "%%time \n",
    "fastai.callback.parallel(resize_tfms, il.items)  # num_workers = default.cpus which is 12"
   ]
  },
  {
   "cell_type": "code",
   "execution_count": 28,
   "metadata": {},
   "outputs": [
    {
     "name": "stdout",
     "output_type": "stream",
     "text": [
      "4.3G\t./data/train\n",
      "244M\t./data/train_224\n"
     ]
    }
   ],
   "source": [
    "!du -sh ./data/train\n",
    "!du -sh ./data/train_224"
   ]
  },
  {
   "cell_type": "markdown",
   "metadata": {},
   "source": [
    "### Test loading"
   ]
  },
  {
   "cell_type": "code",
   "execution_count": 29,
   "metadata": {},
   "outputs": [],
   "source": [
    "param = param_baseline.copy()\n",
    "param['experiment'] = 'resized_image2'\n",
    "param['folder'] = 'train_224'\n",
    "param['num_workers'] = 4"
   ]
  },
  {
   "cell_type": "code",
   "execution_count": 30,
   "metadata": {},
   "outputs": [
    {
     "name": "stdout",
     "output_type": "stream",
     "text": [
      "1min 50s ± 31.1 ms per loop (mean ± std. dev. of 3 runs, 1 loop each)\n"
     ]
    }
   ],
   "source": [
    "result = %timeit -n1 -r3 -o load_train_image(get_data(param))"
   ]
  },
  {
   "cell_type": "code",
   "execution_count": 31,
   "metadata": {},
   "outputs": [],
   "source": [
    "param['avg'], param['stdev'] = result.average, result.stdev\n",
    "exp_param = exp_param.append(param, ignore_index=True)"
   ]
  },
  {
   "cell_type": "code",
   "execution_count": 32,
   "metadata": {},
   "outputs": [
    {
     "data": {
      "text/html": [
       "<div>\n",
       "<style scoped>\n",
       "    .dataframe tbody tr th:only-of-type {\n",
       "        vertical-align: middle;\n",
       "    }\n",
       "\n",
       "    .dataframe tbody tr th {\n",
       "        vertical-align: top;\n",
       "    }\n",
       "\n",
       "    .dataframe thead th {\n",
       "        text-align: right;\n",
       "    }\n",
       "</style>\n",
       "<table border=\"1\" class=\"dataframe\">\n",
       "  <thead>\n",
       "    <tr style=\"text-align: right;\">\n",
       "      <th></th>\n",
       "      <th>experiment</th>\n",
       "      <th>image_size</th>\n",
       "      <th>batch_size</th>\n",
       "      <th>num_workers</th>\n",
       "      <th>folder</th>\n",
       "      <th>avg</th>\n",
       "      <th>stdev</th>\n",
       "    </tr>\n",
       "  </thead>\n",
       "  <tbody>\n",
       "    <tr>\n",
       "      <th>5</th>\n",
       "      <td>number of workers</td>\n",
       "      <td>224</td>\n",
       "      <td>32</td>\n",
       "      <td>4</td>\n",
       "      <td>train</td>\n",
       "      <td>109.725322</td>\n",
       "      <td>0.195592</td>\n",
       "    </tr>\n",
       "    <tr>\n",
       "      <th>24</th>\n",
       "      <td>resized_image2</td>\n",
       "      <td>224</td>\n",
       "      <td>32</td>\n",
       "      <td>4</td>\n",
       "      <td>train_224</td>\n",
       "      <td>110.046879</td>\n",
       "      <td>0.031076</td>\n",
       "    </tr>\n",
       "  </tbody>\n",
       "</table>\n",
       "</div>"
      ],
      "text/plain": [
       "           experiment image_size batch_size num_workers     folder  \\\n",
       "5   number of workers        224         32           4      train   \n",
       "24     resized_image2        224         32           4  train_224   \n",
       "\n",
       "           avg     stdev  \n",
       "5   109.725322  0.195592  \n",
       "24  110.046879  0.031076  "
      ]
     },
     "execution_count": 32,
     "metadata": {},
     "output_type": "execute_result"
    }
   ],
   "source": [
    "compare = exp_param[(exp_param.batch_size == 32) & (exp_param.num_workers == 4)].sort_values('experiment');\n",
    "compare"
   ]
  },
  {
   "cell_type": "code",
   "execution_count": 33,
   "metadata": {},
   "outputs": [
    {
     "data": {
      "image/png": "[encoded data removed]",
      "text/plain": [
       "<Figure size 432x288 with 1 Axes>"
      ]
     },
     "metadata": {
      "needs_background": "light"
     },
     "output_type": "display_data"
    }
   ],
   "source": [
    "plt.bar(compare.experiment, compare.avg/60, yerr=compare.stdev/60)\n",
    "plt.title('Does loading already resize image speed things up?')\n",
    "plt.ylabel('Run Time (min)');"
   ]
  },
  {
   "cell_type": "markdown",
   "metadata": {},
   "source": [
    "**Conclusion**: Saving resized image did not decrease the time it takes to load in the images. "
   ]
  },
  {
   "cell_type": "markdown",
   "metadata": {},
   "source": [
    "### Experiment 4b: just loading a image"
   ]
  },
  {
   "cell_type": "code",
   "execution_count": 34,
   "metadata": {},
   "outputs": [
    {
     "name": "stdout",
     "output_type": "stream",
     "text": [
      "13.2 ms ± 505 µs per loop (mean ± std. dev. of 3 runs, 3 loops each)\n"
     ]
    }
   ],
   "source": [
    "%timeit -n3 -r3 img=vision.open_image(il.items[0])"
   ]
  },
  {
   "cell_type": "code",
   "execution_count": 35,
   "metadata": {},
   "outputs": [],
   "source": [
    "!rm -rf {dest}  # train_224 is no longer needed"
   ]
  },
  {
   "cell_type": "markdown",
   "metadata": {},
   "source": [
    "## Experiment 5: Preprocess image by resizing and saving the result with **4K images**\n",
    "\n",
    "It is possible that the images aren't big enought to test the load and saving benefit. So let's try 4k images. "
   ]
  },
  {
   "cell_type": "markdown",
   "metadata": {},
   "source": [
    "### Diversity of whales' images"
   ]
  },
  {
   "cell_type": "code",
   "execution_count": 36,
   "metadata": {},
   "outputs": [],
   "source": [
    "shapes = []\n",
    "for img in il.items:\n",
    "    shapes.append(PIL.Image.open(img).size)"
   ]
  },
  {
   "cell_type": "code",
   "execution_count": 37,
   "metadata": {},
   "outputs": [
    {
     "data": {
      "text/plain": [
       "(1050, 700)    3330\n",
       "(1050, 600)    2549\n",
       "(1050, 450)    1556\n",
       "(1050, 525)    1303\n",
       "(700, 500)      667\n",
       "(1050, 591)     280\n",
       "(1050, 701)     265\n",
       "(1000, 667)     177\n",
       "(879, 584)      148\n",
       "(1050, 750)     136\n",
       "dtype: int64"
      ]
     },
     "execution_count": 37,
     "metadata": {},
     "output_type": "execute_result"
    }
   ],
   "source": [
    "pd.Series(shapes).value_counts()[:10]  # top 10 shape for whales images"
   ]
  },
  {
   "cell_type": "code",
   "execution_count": 38,
   "metadata": {},
   "outputs": [],
   "source": [
    "np.random.seed(42)\n",
    "il_3 = il.items[np.random.randint(0,len(il.items),3)]"
   ]
  },
  {
   "cell_type": "code",
   "execution_count": 39,
   "metadata": {},
   "outputs": [
    {
     "name": "stdout",
     "output_type": "stream",
     "text": [
      "==== 73c51f3da.jpg : (1050, 450) : 0.17 mb ===\n",
      "7.41 ms ± 721 µs per loop (mean ± std. dev. of 3 runs, 3 loops each)\n",
      "==== 116e1a7b7.jpg : (1050, 630) : 0.25 mb ===\n",
      "10.4 ms ± 150 µs per loop (mean ± std. dev. of 3 runs, 3 loops each)\n",
      "==== d552620fd.jpg : (1050, 450) : 0.14 mb ===\n",
      "6.56 ms ± 12.6 µs per loop (mean ± std. dev. of 3 runs, 3 loops each)\n"
     ]
    }
   ],
   "source": [
    "for fn in il_3:\n",
    "    print(f'==== {fn.name} : {PIL.Image.open(fn).size} : {os.path.getsize(fn)/1e6:.2f} mb ===')\n",
    "    %timeit -n3 -r3 np.array(PIL.Image.open(fn))"
   ]
  },
  {
   "cell_type": "markdown",
   "metadata": {},
   "source": [
    "### 4K stats and load time\n",
    "\n",
    "Chose 3 random images from online to have a variety of images with different color scheme."
   ]
  },
  {
   "cell_type": "code",
   "execution_count": 40,
   "metadata": {},
   "outputs": [],
   "source": [
    "il_4k = ImageList.from_folder(utils.data_fp/'large_images')"
   ]
  },
  {
   "cell_type": "code",
   "execution_count": 41,
   "metadata": {},
   "outputs": [
    {
     "name": "stdout",
     "output_type": "stream",
     "text": [
      "==== hutton-4k.jpg : (3840, 2160) : 5 mb ===\n",
      "190 ms ± 2.85 ms per loop (mean ± std. dev. of 3 runs, 3 loops each)\n",
      "==== arp299_4k.jpg : (5760, 3240) : 11 mb ===\n",
      "416 ms ± 3.48 ms per loop (mean ± std. dev. of 3 runs, 3 loops each)\n",
      "==== saitama-4k.jpg : (3676, 2631) : 6 mb ===\n",
      "196 ms ± 515 µs per loop (mean ± std. dev. of 3 runs, 3 loops each)\n",
      "==== hutton-4k.jpg : (224, 224) : 0 mb ===\n",
      "659 µs ± 35.7 µs per loop (mean ± std. dev. of 3 runs, 3 loops each)\n",
      "==== arp299_4k.jpg : (224, 224) : 0 mb ===\n",
      "607 µs ± 18.8 µs per loop (mean ± std. dev. of 3 runs, 3 loops each)\n",
      "==== saitama-4k.jpg : (224, 224) : 0 mb ===\n",
      "769 µs ± 20.4 µs per loop (mean ± std. dev. of 3 runs, 3 loops each)\n"
     ]
    }
   ],
   "source": [
    "for fn in il_4k.items:\n",
    "    print(f'==== {fn.name} : {PIL.Image.open(fn).size} : {os.path.getsize(fn)/1e6:.0f} mb ===')\n",
    "    %timeit -n3 -r3 np.array(PIL.Image.open(fn))"
   ]
  },
  {
   "cell_type": "markdown",
   "metadata": {},
   "source": [
    "### 4k save as 224x224"
   ]
  },
  {
   "cell_type": "code",
   "execution_count": 42,
   "metadata": {},
   "outputs": [],
   "source": [
    "dest = utils.data_fp/'large_images'/'images_224'\n",
    "dest.mkdir(parents=True, exist_ok=True)"
   ]
  },
  {
   "cell_type": "code",
   "execution_count": 43,
   "metadata": {},
   "outputs": [
    {
     "data": {
      "text/html": [
       "\n",
       "    <div>\n",
       "        <style>\n",
       "            /* Turns off some styling */\n",
       "            progress {\n",
       "                /* gets rid of default border in Firefox and Opera. */\n",
       "                border: none;\n",
       "                /* Needs to be in here for Safari polyfill so background images work as expected. */\n",
       "                background-size: auto;\n",
       "            }\n",
       "            .progress-bar-interrupted, .progress-bar-interrupted::-webkit-progress-bar {\n",
       "                background: #F44336;\n",
       "            }\n",
       "        </style>\n",
       "      <progress value='6' class='' max='6', style='width:300px; height:20px; vertical-align: middle;'></progress>\n",
       "      100.00% [6/6 00:00<00:00]\n",
       "    </div>\n",
       "    "
      ],
      "text/plain": [
       "<IPython.core.display.HTML object>"
      ]
     },
     "metadata": {},
     "output_type": "display_data"
    },
    {
     "name": "stdout",
     "output_type": "stream",
     "text": [
      "CPU times: user 767 ms, sys: 208 ms, total: 975 ms\n",
      "Wall time: 1.14 s\n"
     ]
    }
   ],
   "source": [
    "%%time \n",
    "fastai.callback.parallel(resize_tfms, il_4k.items)  # num_workers = default.cpus which is 12"
   ]
  },
  {
   "cell_type": "code",
   "execution_count": 44,
   "metadata": {},
   "outputs": [
    {
     "name": "stdout",
     "output_type": "stream",
     "text": [
      "==== hutton-4k.jpg : (224, 224) : 7 kb ===\n",
      "842 µs ± 157 µs per loop (mean ± std. dev. of 3 runs, 3 loops each)\n",
      "==== arp299_4k.jpg : (224, 224) : 4 kb ===\n",
      "624 µs ± 38.1 µs per loop (mean ± std. dev. of 3 runs, 3 loops each)\n",
      "==== saitama-4k.jpg : (224, 224) : 13 kb ===\n",
      "774 µs ± 21.5 µs per loop (mean ± std. dev. of 3 runs, 3 loops each)\n"
     ]
    }
   ],
   "source": [
    "for fn in ImageList.from_folder(dest).items:\n",
    "    print(f'==== {fn.name} : {PIL.Image.open(fn).size} : {os.path.getsize(fn)/1e3:.0f} kb ===')\n",
    "    %timeit -n3 -r3 np.array(PIL.Image.open(fn))"
   ]
  },
  {
   "cell_type": "markdown",
   "metadata": {},
   "source": [
    "**Conclusion**: Yes, saving larger image into a smaller size will help train by reducing load time. However, the image needs to big or else it doesn't help at all. For instance, whale images where reduce by ~15x in size and that didn't help. While 4k images were reduce by ~166x and the load decrease by ~200x. I think there is a size threshold as well because of overhead before we can see the benefit of saving images in reduce size. "
   ]
  },
  {
   "cell_type": "markdown",
   "metadata": {},
   "source": [
    "## Experiment 6: Loading from disk vs ram?\n",
    "\n",
    "I tried selecting for 8k of images. Loading that many images went beyond 16 gb of ram. 1k images takes around 6gb. "
   ]
  },
  {
   "cell_type": "code",
   "execution_count": 45,
   "metadata": {},
   "outputs": [],
   "source": [
    "images_fn = il.items[:1000]  # test on 1k images"
   ]
  },
  {
   "cell_type": "markdown",
   "metadata": {},
   "source": [
    "### Loading from disk"
   ]
  },
  {
   "cell_type": "code",
   "execution_count": 46,
   "metadata": {},
   "outputs": [
    {
     "name": "stdout",
     "output_type": "stream",
     "text": [
      "15.5 s ± 43.6 ms per loop (mean ± std. dev. of 3 runs, 3 loops each)\n"
     ]
    }
   ],
   "source": [
    "%%timeit -n3 -r3 \n",
    "for fn in images_fn:\n",
    "    img = vision.open_image(fn)\n",
    "    img = img.apply_tfms([vision.crop_pad()], size=224, resize_method=ResizeMethod.PAD, padding_mode='border')"
   ]
  },
  {
   "cell_type": "markdown",
   "metadata": {},
   "source": [
    "### Loading from ram"
   ]
  },
  {
   "cell_type": "code",
   "execution_count": 47,
   "metadata": {},
   "outputs": [
    {
     "name": "stdout",
     "output_type": "stream",
     "text": [
      "9.06 s ± 136 ms per loop (mean ± std. dev. of 3 runs, 3 loops each)\n"
     ]
    }
   ],
   "source": [
    "%timeit -n3 -r3 [vision.open_image(fn) for fn in images_fn]"
   ]
  },
  {
   "cell_type": "code",
   "execution_count": 48,
   "metadata": {},
   "outputs": [],
   "source": [
    "images_ram = [vision.open_image(fn) for fn in images_fn]"
   ]
  },
  {
   "cell_type": "code",
   "execution_count": 49,
   "metadata": {},
   "outputs": [
    {
     "name": "stdout",
     "output_type": "stream",
     "text": [
      "6.54 s ± 9.44 ms per loop (mean ± std. dev. of 3 runs, 3 loops each)\n"
     ]
    }
   ],
   "source": [
    "%%timeit -n3 -r3\n",
    "for img in images_ram:\n",
    "    img = img.apply_tfms([vision.crop_pad()], size=224, resize_method=ResizeMethod.PAD, padding_mode='border')"
   ]
  },
  {
   "cell_type": "code",
   "execution_count": 50,
   "metadata": {},
   "outputs": [],
   "source": [
    "del images_ram"
   ]
  },
  {
   "cell_type": "markdown",
   "metadata": {},
   "source": [
    "**Conclusion**: It does look like loading the images into ram does help reduce the loading of images but the amount of space in ram required is signficantly higher than on disk. So it is unlikely to be able to use this trick unless you have a really small dataset. "
   ]
  },
  {
   "cell_type": "markdown",
   "metadata": {},
   "source": [
    "## Export result"
   ]
  },
  {
   "cell_type": "code",
   "execution_count": 51,
   "metadata": {},
   "outputs": [
    {
     "data": {
      "text/html": [
       "<div>\n",
       "<style scoped>\n",
       "    .dataframe tbody tr th:only-of-type {\n",
       "        vertical-align: middle;\n",
       "    }\n",
       "\n",
       "    .dataframe tbody tr th {\n",
       "        vertical-align: top;\n",
       "    }\n",
       "\n",
       "    .dataframe thead th {\n",
       "        text-align: right;\n",
       "    }\n",
       "</style>\n",
       "<table border=\"1\" class=\"dataframe\">\n",
       "  <thead>\n",
       "    <tr style=\"text-align: right;\">\n",
       "      <th></th>\n",
       "      <th>experiment</th>\n",
       "      <th>image_size</th>\n",
       "      <th>batch_size</th>\n",
       "      <th>num_workers</th>\n",
       "      <th>folder</th>\n",
       "      <th>avg</th>\n",
       "      <th>stdev</th>\n",
       "    </tr>\n",
       "  </thead>\n",
       "  <tbody>\n",
       "    <tr>\n",
       "      <th>0</th>\n",
       "      <td>baseline</td>\n",
       "      <td>224</td>\n",
       "      <td>32</td>\n",
       "      <td>0</td>\n",
       "      <td>train</td>\n",
       "      <td>350.288349</td>\n",
       "      <td>10.682400</td>\n",
       "    </tr>\n",
       "    <tr>\n",
       "      <th>1</th>\n",
       "      <td>baseline2</td>\n",
       "      <td>224</td>\n",
       "      <td>32</td>\n",
       "      <td>0</td>\n",
       "      <td>train</td>\n",
       "      <td>343.515173</td>\n",
       "      <td>0.187487</td>\n",
       "    </tr>\n",
       "    <tr>\n",
       "      <th>2</th>\n",
       "      <td>number of workers</td>\n",
       "      <td>224</td>\n",
       "      <td>32</td>\n",
       "      <td>1</td>\n",
       "      <td>train</td>\n",
       "      <td>359.843272</td>\n",
       "      <td>0.739077</td>\n",
       "    </tr>\n",
       "    <tr>\n",
       "      <th>3</th>\n",
       "      <td>number of workers</td>\n",
       "      <td>224</td>\n",
       "      <td>32</td>\n",
       "      <td>2</td>\n",
       "      <td>train</td>\n",
       "      <td>187.418105</td>\n",
       "      <td>0.261557</td>\n",
       "    </tr>\n",
       "    <tr>\n",
       "      <th>4</th>\n",
       "      <td>number of workers</td>\n",
       "      <td>224</td>\n",
       "      <td>32</td>\n",
       "      <td>3</td>\n",
       "      <td>train</td>\n",
       "      <td>135.603078</td>\n",
       "      <td>0.133503</td>\n",
       "    </tr>\n",
       "    <tr>\n",
       "      <th>5</th>\n",
       "      <td>number of workers</td>\n",
       "      <td>224</td>\n",
       "      <td>32</td>\n",
       "      <td>4</td>\n",
       "      <td>train</td>\n",
       "      <td>109.725322</td>\n",
       "      <td>0.195592</td>\n",
       "    </tr>\n",
       "    <tr>\n",
       "      <th>6</th>\n",
       "      <td>number of workers</td>\n",
       "      <td>224</td>\n",
       "      <td>32</td>\n",
       "      <td>5</td>\n",
       "      <td>train</td>\n",
       "      <td>96.302654</td>\n",
       "      <td>0.387131</td>\n",
       "    </tr>\n",
       "    <tr>\n",
       "      <th>7</th>\n",
       "      <td>number of workers</td>\n",
       "      <td>224</td>\n",
       "      <td>32</td>\n",
       "      <td>6</td>\n",
       "      <td>train</td>\n",
       "      <td>89.003867</td>\n",
       "      <td>0.313115</td>\n",
       "    </tr>\n",
       "    <tr>\n",
       "      <th>8</th>\n",
       "      <td>number of workers</td>\n",
       "      <td>224</td>\n",
       "      <td>32</td>\n",
       "      <td>12</td>\n",
       "      <td>train</td>\n",
       "      <td>81.354347</td>\n",
       "      <td>0.020156</td>\n",
       "    </tr>\n",
       "    <tr>\n",
       "      <th>9</th>\n",
       "      <td>number of workers</td>\n",
       "      <td>224</td>\n",
       "      <td>32</td>\n",
       "      <td>20</td>\n",
       "      <td>train</td>\n",
       "      <td>81.447743</td>\n",
       "      <td>0.129215</td>\n",
       "    </tr>\n",
       "    <tr>\n",
       "      <th>10</th>\n",
       "      <td>batch_size</td>\n",
       "      <td>224</td>\n",
       "      <td>1</td>\n",
       "      <td>0</td>\n",
       "      <td>train</td>\n",
       "      <td>349.085634</td>\n",
       "      <td>0.623089</td>\n",
       "    </tr>\n",
       "    <tr>\n",
       "      <th>11</th>\n",
       "      <td>batch_size</td>\n",
       "      <td>224</td>\n",
       "      <td>8</td>\n",
       "      <td>0</td>\n",
       "      <td>train</td>\n",
       "      <td>342.176119</td>\n",
       "      <td>3.203592</td>\n",
       "    </tr>\n",
       "    <tr>\n",
       "      <th>12</th>\n",
       "      <td>batch_size</td>\n",
       "      <td>224</td>\n",
       "      <td>16</td>\n",
       "      <td>0</td>\n",
       "      <td>train</td>\n",
       "      <td>344.681957</td>\n",
       "      <td>0.304973</td>\n",
       "    </tr>\n",
       "    <tr>\n",
       "      <th>13</th>\n",
       "      <td>batch_size</td>\n",
       "      <td>224</td>\n",
       "      <td>32</td>\n",
       "      <td>0</td>\n",
       "      <td>train</td>\n",
       "      <td>344.523379</td>\n",
       "      <td>1.055903</td>\n",
       "    </tr>\n",
       "    <tr>\n",
       "      <th>14</th>\n",
       "      <td>batch_size</td>\n",
       "      <td>224</td>\n",
       "      <td>64</td>\n",
       "      <td>0</td>\n",
       "      <td>train</td>\n",
       "      <td>345.735445</td>\n",
       "      <td>0.661948</td>\n",
       "    </tr>\n",
       "    <tr>\n",
       "      <th>15</th>\n",
       "      <td>batch_size</td>\n",
       "      <td>224</td>\n",
       "      <td>128</td>\n",
       "      <td>0</td>\n",
       "      <td>train</td>\n",
       "      <td>347.752671</td>\n",
       "      <td>0.831871</td>\n",
       "    </tr>\n",
       "    <tr>\n",
       "      <th>16</th>\n",
       "      <td>batch_size_plus_workers</td>\n",
       "      <td>224</td>\n",
       "      <td>128</td>\n",
       "      <td>1</td>\n",
       "      <td>train</td>\n",
       "      <td>362.461448</td>\n",
       "      <td>0.328478</td>\n",
       "    </tr>\n",
       "    <tr>\n",
       "      <th>17</th>\n",
       "      <td>batch_size_plus_workers</td>\n",
       "      <td>224</td>\n",
       "      <td>128</td>\n",
       "      <td>2</td>\n",
       "      <td>train</td>\n",
       "      <td>189.664779</td>\n",
       "      <td>0.356528</td>\n",
       "    </tr>\n",
       "    <tr>\n",
       "      <th>18</th>\n",
       "      <td>batch_size_plus_workers</td>\n",
       "      <td>224</td>\n",
       "      <td>128</td>\n",
       "      <td>3</td>\n",
       "      <td>train</td>\n",
       "      <td>138.225568</td>\n",
       "      <td>0.664886</td>\n",
       "    </tr>\n",
       "    <tr>\n",
       "      <th>19</th>\n",
       "      <td>batch_size_plus_workers</td>\n",
       "      <td>224</td>\n",
       "      <td>128</td>\n",
       "      <td>4</td>\n",
       "      <td>train</td>\n",
       "      <td>112.014425</td>\n",
       "      <td>0.103591</td>\n",
       "    </tr>\n",
       "    <tr>\n",
       "      <th>20</th>\n",
       "      <td>batch_size_plus_workers</td>\n",
       "      <td>224</td>\n",
       "      <td>128</td>\n",
       "      <td>5</td>\n",
       "      <td>train</td>\n",
       "      <td>98.740941</td>\n",
       "      <td>0.706959</td>\n",
       "    </tr>\n",
       "    <tr>\n",
       "      <th>21</th>\n",
       "      <td>batch_size_plus_workers</td>\n",
       "      <td>224</td>\n",
       "      <td>128</td>\n",
       "      <td>6</td>\n",
       "      <td>train</td>\n",
       "      <td>91.702107</td>\n",
       "      <td>0.436915</td>\n",
       "    </tr>\n",
       "    <tr>\n",
       "      <th>22</th>\n",
       "      <td>batch_size_plus_workers</td>\n",
       "      <td>224</td>\n",
       "      <td>128</td>\n",
       "      <td>12</td>\n",
       "      <td>train</td>\n",
       "      <td>83.701453</td>\n",
       "      <td>0.101209</td>\n",
       "    </tr>\n",
       "    <tr>\n",
       "      <th>23</th>\n",
       "      <td>batch_size_plus_workers</td>\n",
       "      <td>224</td>\n",
       "      <td>128</td>\n",
       "      <td>20</td>\n",
       "      <td>train</td>\n",
       "      <td>84.168095</td>\n",
       "      <td>0.176005</td>\n",
       "    </tr>\n",
       "    <tr>\n",
       "      <th>24</th>\n",
       "      <td>resized_image2</td>\n",
       "      <td>224</td>\n",
       "      <td>32</td>\n",
       "      <td>4</td>\n",
       "      <td>train_224</td>\n",
       "      <td>110.046879</td>\n",
       "      <td>0.031076</td>\n",
       "    </tr>\n",
       "  </tbody>\n",
       "</table>\n",
       "</div>"
      ],
      "text/plain": [
       "                 experiment image_size batch_size num_workers     folder  \\\n",
       "0                  baseline        224         32           0      train   \n",
       "1                 baseline2        224         32           0      train   \n",
       "2         number of workers        224         32           1      train   \n",
       "3         number of workers        224         32           2      train   \n",
       "4         number of workers        224         32           3      train   \n",
       "5         number of workers        224         32           4      train   \n",
       "6         number of workers        224         32           5      train   \n",
       "7         number of workers        224         32           6      train   \n",
       "8         number of workers        224         32          12      train   \n",
       "9         number of workers        224         32          20      train   \n",
       "10               batch_size        224          1           0      train   \n",
       "11               batch_size        224          8           0      train   \n",
       "12               batch_size        224         16           0      train   \n",
       "13               batch_size        224         32           0      train   \n",
       "14               batch_size        224         64           0      train   \n",
       "15               batch_size        224        128           0      train   \n",
       "16  batch_size_plus_workers        224        128           1      train   \n",
       "17  batch_size_plus_workers        224        128           2      train   \n",
       "18  batch_size_plus_workers        224        128           3      train   \n",
       "19  batch_size_plus_workers        224        128           4      train   \n",
       "20  batch_size_plus_workers        224        128           5      train   \n",
       "21  batch_size_plus_workers        224        128           6      train   \n",
       "22  batch_size_plus_workers        224        128          12      train   \n",
       "23  batch_size_plus_workers        224        128          20      train   \n",
       "24           resized_image2        224         32           4  train_224   \n",
       "\n",
       "           avg      stdev  \n",
       "0   350.288349  10.682400  \n",
       "1   343.515173   0.187487  \n",
       "2   359.843272   0.739077  \n",
       "3   187.418105   0.261557  \n",
       "4   135.603078   0.133503  \n",
       "5   109.725322   0.195592  \n",
       "6    96.302654   0.387131  \n",
       "7    89.003867   0.313115  \n",
       "8    81.354347   0.020156  \n",
       "9    81.447743   0.129215  \n",
       "10  349.085634   0.623089  \n",
       "11  342.176119   3.203592  \n",
       "12  344.681957   0.304973  \n",
       "13  344.523379   1.055903  \n",
       "14  345.735445   0.661948  \n",
       "15  347.752671   0.831871  \n",
       "16  362.461448   0.328478  \n",
       "17  189.664779   0.356528  \n",
       "18  138.225568   0.664886  \n",
       "19  112.014425   0.103591  \n",
       "20   98.740941   0.706959  \n",
       "21   91.702107   0.436915  \n",
       "22   83.701453   0.101209  \n",
       "23   84.168095   0.176005  \n",
       "24  110.046879   0.031076  "
      ]
     },
     "execution_count": 51,
     "metadata": {},
     "output_type": "execute_result"
    }
   ],
   "source": [
    "exp_param"
   ]
  },
  {
   "cell_type": "code",
   "execution_count": 52,
   "metadata": {},
   "outputs": [],
   "source": [
    "exp_param.to_csv(utils.data_fp/'loading_runtime.csv', index=False)"
   ]
  },
  {
   "cell_type": "markdown",
   "metadata": {},
   "source": [
    "### Hardware of current system"
   ]
  },
  {
   "cell_type": "code",
   "execution_count": 53,
   "metadata": {},
   "outputs": [
    {
     "name": "stdout",
     "output_type": "stream",
     "text": [
      "WARNING: you should run this program as super-user.\n",
      "H/W path              Device   Class       Description\n",
      "======================================================\n",
      "/0/0                           memory      15GiB System memory\n",
      "/0/1                           processor   AMD Ryzen 5 1600 Six-Core Processor\n",
      "/0/100/1.3/0.2/4/0             display     GP106 [GeForce GTX 1060 6GB]\n",
      "/0/100/3.1/0                   display     GP106 [GeForce GTX 1060 6GB]\n",
      "WARNING: output may be incomplete or inaccurate, you should run this program as super-user.\n"
     ]
    }
   ],
   "source": [
    "hardware_info = !lshw -short -sanitize\n",
    "for line in hardware_info:\n",
    "    for word in ['WARNING','Description', '==', 'processor', 'memory', 'display']:\n",
    "        if word in line: print(line)"
   ]
  }
 ],
 "metadata": {
  "kernelspec": {
   "display_name": "Python 3",
   "language": "python",
   "name": "python3"
  },
  "language_info": {
   "codemirror_mode": {
    "name": "ipython",
    "version": 3
   },
   "file_extension": ".py",
   "mimetype": "text/x-python",
   "name": "python",
   "nbconvert_exporter": "python",
   "pygments_lexer": "ipython3",
   "version": "3.7.3"
  }
 },
 "nbformat": 4,
 "nbformat_minor": 2
}
