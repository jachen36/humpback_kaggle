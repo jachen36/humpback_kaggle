{
 "cells": [
  {
   "cell_type": "markdown",
   "metadata": {},
   "source": [
    "## How to efficiently load images?\n",
    "\n",
    "Things to consider:  \n",
    "* find out if training is affected by saving them into smaller images\n",
    "* Final test compare training time"
   ]
  },
  {
   "cell_type": "code",
   "execution_count": 1,
   "metadata": {},
   "outputs": [],
   "source": [
    "import fastai\n",
    "from fastai import *\n",
    "from fastai.vision import *\n",
    "import utils  # person functions\n",
    "\n",
    "%matplotlib inline"
   ]
  },
  {
   "cell_type": "code",
   "execution_count": 2,
   "metadata": {},
   "outputs": [],
   "source": [
    "# global variables\n",
    "labels='train_stratified_split.csv'\n",
    "padding_mode='border'\n",
    "param_baseline = {'experiment': 'baseline', \n",
    "                  'image_size': 224, \n",
    "                  'batch_size': 32, \n",
    "                  'num_workers':0, \n",
    "                  'folder':'train'}"
   ]
  },
  {
   "cell_type": "code",
   "execution_count": 3,
   "metadata": {},
   "outputs": [],
   "source": [
    "def load_train_image(data):\n",
    "    'Just load the data and nothing else'\n",
    "    for i, batch in enumerate(data.train_dl): \n",
    "        pass\n",
    "\n",
    "def get_data(params):\n",
    "    'wrapper function for parameter settings'\n",
    "    return utils.get_data(size=param['image_size'], \n",
    "                          bs=param['batch_size'], \n",
    "                          csv=labels, \n",
    "                          folder=param['folder'], \n",
    "                          num_workers=param['num_workers'], \n",
    "                          padding_mode=padding_mode)"
   ]
  },
  {
   "cell_type": "code",
   "execution_count": 4,
   "metadata": {},
   "outputs": [
    {
     "data": {
      "text/plain": [
       "['TfmCrop', 'TfmPixel', 'TfmCoord', 'TfmAffine', 'TfmLighting', 'TfmLighting']"
      ]
     },
     "execution_count": 4,
     "metadata": {},
     "output_type": "execute_result"
    }
   ],
   "source": [
    "tfms = get_transforms(flip_vert=False, max_zoom=1);\n",
    "[i.tfm.name for i in tfms[0]]  # transformation done on training data set"
   ]
  },
  {
   "cell_type": "code",
   "execution_count": 5,
   "metadata": {},
   "outputs": [
    {
     "data": {
      "text/plain": [
       "\u001b[0;31mSignature:\u001b[0m\n",
       "\u001b[0mvision\u001b[0m\u001b[0;34m.\u001b[0m\u001b[0mtransform\u001b[0m\u001b[0;34m.\u001b[0m\u001b[0m_crop_pad\u001b[0m\u001b[0;34m(\u001b[0m\u001b[0;34m\u001b[0m\n",
       "\u001b[0;34m\u001b[0m    \u001b[0mx\u001b[0m\u001b[0;34m,\u001b[0m\u001b[0;34m\u001b[0m\n",
       "\u001b[0;34m\u001b[0m    \u001b[0msize\u001b[0m\u001b[0;34m,\u001b[0m\u001b[0;34m\u001b[0m\n",
       "\u001b[0;34m\u001b[0m    \u001b[0mpadding_mode\u001b[0m\u001b[0;34m=\u001b[0m\u001b[0;34m'reflection'\u001b[0m\u001b[0;34m,\u001b[0m\u001b[0;34m\u001b[0m\n",
       "\u001b[0;34m\u001b[0m    \u001b[0mrow_pct\u001b[0m\u001b[0;34m:\u001b[0m \u001b[0;34m<\u001b[0m\u001b[0mfunction\u001b[0m \u001b[0muniform\u001b[0m \u001b[0mat\u001b[0m \u001b[0;36m0x7fdd15b850d0\u001b[0m\u001b[0;34m>\u001b[0m \u001b[0;34m=\u001b[0m \u001b[0;36m0.5\u001b[0m\u001b[0;34m,\u001b[0m\u001b[0;34m\u001b[0m\n",
       "\u001b[0;34m\u001b[0m    \u001b[0mcol_pct\u001b[0m\u001b[0;34m:\u001b[0m \u001b[0;34m<\u001b[0m\u001b[0mfunction\u001b[0m \u001b[0muniform\u001b[0m \u001b[0mat\u001b[0m \u001b[0;36m0x7fdd15b850d0\u001b[0m\u001b[0;34m>\u001b[0m \u001b[0;34m=\u001b[0m \u001b[0;36m0.5\u001b[0m\u001b[0;34m,\u001b[0m\u001b[0;34m\u001b[0m\n",
       "\u001b[0;34m\u001b[0m\u001b[0;34m)\u001b[0m \u001b[0;34m->\u001b[0m \u001b[0mfastai\u001b[0m\u001b[0;34m.\u001b[0m\u001b[0mvision\u001b[0m\u001b[0;34m.\u001b[0m\u001b[0mimage\u001b[0m\u001b[0;34m.\u001b[0m\u001b[0mImage\u001b[0m\u001b[0;34m\u001b[0m\u001b[0;34m\u001b[0m\u001b[0m\n",
       "\u001b[0;31mDocstring:\u001b[0m <no docstring>\n",
       "\u001b[0;31mSource:\u001b[0m   \n",
       "\u001b[0;32mdef\u001b[0m \u001b[0m_crop_pad\u001b[0m\u001b[0;34m(\u001b[0m\u001b[0mx\u001b[0m\u001b[0;34m,\u001b[0m \u001b[0msize\u001b[0m\u001b[0;34m,\u001b[0m \u001b[0mpadding_mode\u001b[0m\u001b[0;34m=\u001b[0m\u001b[0;34m'reflection'\u001b[0m\u001b[0;34m,\u001b[0m \u001b[0mrow_pct\u001b[0m\u001b[0;34m:\u001b[0m\u001b[0muniform\u001b[0m \u001b[0;34m=\u001b[0m \u001b[0;36m0.5\u001b[0m\u001b[0;34m,\u001b[0m \u001b[0mcol_pct\u001b[0m\u001b[0;34m:\u001b[0m\u001b[0muniform\u001b[0m \u001b[0;34m=\u001b[0m \u001b[0;36m0.5\u001b[0m\u001b[0;34m)\u001b[0m\u001b[0;34m:\u001b[0m\u001b[0;34m\u001b[0m\n",
       "\u001b[0;34m\u001b[0m    \u001b[0mf_crop_pad\u001b[0m \u001b[0;34m=\u001b[0m \u001b[0m_crop_pad_image_points\u001b[0m \u001b[0;32mif\u001b[0m \u001b[0misinstance\u001b[0m\u001b[0;34m(\u001b[0m\u001b[0mx\u001b[0m\u001b[0;34m,\u001b[0m \u001b[0mImagePoints\u001b[0m\u001b[0;34m)\u001b[0m \u001b[0;32melse\u001b[0m \u001b[0m_crop_pad_default\u001b[0m\u001b[0;34m\u001b[0m\n",
       "\u001b[0;34m\u001b[0m    \u001b[0;32mreturn\u001b[0m \u001b[0mf_crop_pad\u001b[0m\u001b[0;34m(\u001b[0m\u001b[0mx\u001b[0m\u001b[0;34m,\u001b[0m \u001b[0msize\u001b[0m\u001b[0;34m,\u001b[0m \u001b[0mpadding_mode\u001b[0m\u001b[0;34m,\u001b[0m \u001b[0mrow_pct\u001b[0m\u001b[0;34m,\u001b[0m \u001b[0mcol_pct\u001b[0m\u001b[0;34m)\u001b[0m\u001b[0;34m\u001b[0m\u001b[0;34m\u001b[0m\u001b[0m\n",
       "\u001b[0;31mFile:\u001b[0m      ~/anaconda3/lib/python3.7/site-packages/fastai/vision/transform.py\n",
       "\u001b[0;31mType:\u001b[0m      function\n"
      ]
     },
     "metadata": {},
     "output_type": "display_data"
    }
   ],
   "source": [
    "# first step is to resize the image\n",
    "vision.transform._crop_pad??"
   ]
  },
  {
   "cell_type": "code",
   "execution_count": null,
   "metadata": {},
   "outputs": [],
   "source": [
    "if utils.data_fp.exists():\n",
    "    exp_param = pd.read_csv(utils.data_fp/'loading_runtime.csv')\n",
    "else:\n",
    "    exp_param = pd.DataFrame(columns=['experiment', 'image_size', 'batch_size', 'num_workers', 'folder', 'avg', 'stdev'])"
   ]
  },
  {
   "cell_type": "markdown",
   "metadata": {},
   "source": [
    "## Baseline: Loading unprocessed images\n",
    "How long does it take to load images from a dataloader with all the transformation?"
   ]
  },
  {
   "cell_type": "code",
   "execution_count": 47,
   "metadata": {},
   "outputs": [],
   "source": [
    "param = param_baseline.copy()"
   ]
  },
  {
   "cell_type": "code",
   "execution_count": 48,
   "metadata": {},
   "outputs": [
    {
     "name": "stdout",
     "output_type": "stream",
     "text": [
      "6min 2s ± 764 ms per loop (mean ± std. dev. of 3 runs, 1 loop each)\n"
     ]
    }
   ],
   "source": [
    "result = %timeit -n1 -r3 -o load_train_image(get_data(param))"
   ]
  },
  {
   "cell_type": "code",
   "execution_count": 49,
   "metadata": {},
   "outputs": [],
   "source": [
    "param['avg'], param['stdev'] = result.average, result.stdev"
   ]
  },
  {
   "cell_type": "code",
   "execution_count": 50,
   "metadata": {},
   "outputs": [],
   "source": [
    "exp_param = exp_param.append(param, ignore_index=True)"
   ]
  },
  {
   "cell_type": "markdown",
   "metadata": {},
   "source": [
    "Each time I restart my computer, I rerun below code to warm the computer up and to see how much variance there are with the timing. "
   ]
  },
  {
   "cell_type": "code",
   "execution_count": 51,
   "metadata": {},
   "outputs": [
    {
     "name": "stdout",
     "output_type": "stream",
     "text": [
      "6min 1s ± 544 ms per loop (mean ± std. dev. of 3 runs, 1 loop each)\n"
     ]
    }
   ],
   "source": [
    "param = param_baseline.copy()\n",
    "param['experiment'] = 'baseline2'\n",
    "result = %timeit -n1 -r3 -o load_train_image(get_data(param))\n",
    "param['avg'], param['stdev'] = result.average, result.stdev\n",
    "exp_param = exp_param.append(param, ignore_index=True)"
   ]
  },
  {
   "cell_type": "markdown",
   "metadata": {},
   "source": [
    "## Experiment 1: Number of workers\n",
    "How does the number of worker impact loading of the data?  \n",
    "Are there a limit before overhead becomes not worth it?"
   ]
  },
  {
   "cell_type": "code",
   "execution_count": 56,
   "metadata": {},
   "outputs": [],
   "source": [
    "workers_ls = [1,2,3,4,5,6,defaults.cpus,20]\n",
    "param = param_baseline.copy()\n",
    "param['experiment'] = 'number of workers'"
   ]
  },
  {
   "cell_type": "code",
   "execution_count": 57,
   "metadata": {},
   "outputs": [
    {
     "name": "stdout",
     "output_type": "stream",
     "text": [
      "Workers: 1\n",
      "6min 47s ± 138 ms per loop (mean ± std. dev. of 3 runs, 1 loop each)\n",
      "Workers: 2\n",
      "3min 41s ± 135 ms per loop (mean ± std. dev. of 3 runs, 1 loop each)\n",
      "Workers: 3\n",
      "2min 43s ± 185 ms per loop (mean ± std. dev. of 3 runs, 1 loop each)\n",
      "Workers: 4\n",
      "2min 14s ± 592 ms per loop (mean ± std. dev. of 3 runs, 1 loop each)\n",
      "Workers: 5\n",
      "1min 59s ± 432 ms per loop (mean ± std. dev. of 3 runs, 1 loop each)\n",
      "Workers: 6\n",
      "1min 50s ± 347 ms per loop (mean ± std. dev. of 3 runs, 1 loop each)\n",
      "Workers: 12\n",
      "1min 37s ± 272 ms per loop (mean ± std. dev. of 3 runs, 1 loop each)\n",
      "Workers: 20\n",
      "1min 34s ± 475 ms per loop (mean ± std. dev. of 3 runs, 1 loop each)\n"
     ]
    }
   ],
   "source": [
    "for x in workers_ls:\n",
    "    print(f'Workers: {x}')\n",
    "    param['num_workers'] = x\n",
    "    result = %timeit -n1 -r3 -o load_train_image(get_data(param))\n",
    "    param['avg'], param['stdev'] = result.average, result.stdev\n",
    "    exp_param = exp_param.append(param, ignore_index=True)"
   ]
  },
  {
   "cell_type": "code",
   "execution_count": null,
   "metadata": {},
   "outputs": [],
   "source": [
    "#plot result? vs baseline?"
   ]
  },
  {
   "cell_type": "markdown",
   "metadata": {},
   "source": [
    "## Experiment 2: Batch Size\n",
    "\n",
    "Batch size shouldn't impact the time because the amount of work is the same. But what if there is an interaction between num_workers and batch_size. Larger batchsize allow for better use of subprocess?"
   ]
  },
  {
   "cell_type": "code",
   "execution_count": 58,
   "metadata": {},
   "outputs": [],
   "source": [
    "batch_ls = [1, 8, 16, 32, 64, 128]\n",
    "param = param_baseline.copy()\n",
    "param['experiment'] = 'batch_size'"
   ]
  },
  {
   "cell_type": "markdown",
   "metadata": {},
   "source": [
    "num_worker = 0, the cpu usage is 50%. "
   ]
  },
  {
   "cell_type": "code",
   "execution_count": 59,
   "metadata": {},
   "outputs": [
    {
     "name": "stdout",
     "output_type": "stream",
     "text": [
      "Batch Size: 1\n",
      "6min 6s ± 1.13 s per loop (mean ± std. dev. of 3 runs, 1 loop each)\n",
      "Batch Size: 8\n",
      "6min 2s ± 388 ms per loop (mean ± std. dev. of 3 runs, 1 loop each)\n",
      "Batch Size: 16\n",
      "6min 1s ± 490 ms per loop (mean ± std. dev. of 3 runs, 1 loop each)\n",
      "Batch Size: 32\n",
      "6min 1s ± 1.1 s per loop (mean ± std. dev. of 3 runs, 1 loop each)\n",
      "Batch Size: 64\n",
      "6min 3s ± 397 ms per loop (mean ± std. dev. of 3 runs, 1 loop each)\n",
      "Batch Size: 128\n",
      "6min 5s ± 600 ms per loop (mean ± std. dev. of 3 runs, 1 loop each)\n"
     ]
    }
   ],
   "source": [
    "for x in batch_ls:\n",
    "    print(f'Batch Size: {x}')\n",
    "    param['batch_size'] = x\n",
    "    result = %timeit -n1 -r3 -o load_train_image(get_data(param))\n",
    "    param['avg'], param['stdev'] = result.average, result.stdev\n",
    "    exp_param = exp_param.append(param, ignore_index=True)"
   ]
  },
  {
   "cell_type": "markdown",
   "metadata": {},
   "source": [
    "## Experiment 3: Batch size plus number of workers\n",
    "Since experiment 1 tested batch size of 32 and range of workers, this will just test with a larger batch size with the same range of workers. "
   ]
  },
  {
   "cell_type": "code",
   "execution_count": 60,
   "metadata": {},
   "outputs": [],
   "source": [
    "param = param_baseline.copy()\n",
    "param['experiment'] = 'batch_size_plus_workers'\n",
    "param['batch_size'] = 128   # it is unlikely my gpu will be able to fit larger batch than this"
   ]
  },
  {
   "cell_type": "code",
   "execution_count": 61,
   "metadata": {},
   "outputs": [
    {
     "name": "stdout",
     "output_type": "stream",
     "text": [
      "Workers: 1\n",
      "6min 29s ± 217 ms per loop (mean ± std. dev. of 3 runs, 1 loop each)\n",
      "Workers: 2\n",
      "3min 26s ± 309 ms per loop (mean ± std. dev. of 3 runs, 1 loop each)\n",
      "Workers: 3\n",
      "2min 31s ± 436 ms per loop (mean ± std. dev. of 3 runs, 1 loop each)\n",
      "Workers: 4\n",
      "2min 4s ± 675 ms per loop (mean ± std. dev. of 3 runs, 1 loop each)\n",
      "Workers: 5\n",
      "1min 50s ± 596 ms per loop (mean ± std. dev. of 3 runs, 1 loop each)\n",
      "Workers: 6\n",
      "1min 40s ± 434 ms per loop (mean ± std. dev. of 3 runs, 1 loop each)\n",
      "Workers: 12\n",
      "1min 29s ± 253 ms per loop (mean ± std. dev. of 3 runs, 1 loop each)\n",
      "Workers: 20\n",
      "1min 29s ± 171 ms per loop (mean ± std. dev. of 3 runs, 1 loop each)\n"
     ]
    }
   ],
   "source": [
    "for x in workers_ls:\n",
    "    print(f'Workers: {x}')\n",
    "    param['num_workers'] = x\n",
    "    result = %timeit -n1 -r3 -o load_train_image(get_data(param))\n",
    "    param['avg'], param['stdev'] = result.average, result.stdev\n",
    "    exp_param = exp_param.append(param, ignore_index=True)"
   ]
  },
  {
   "cell_type": "code",
   "execution_count": 116,
   "metadata": {},
   "outputs": [
    {
     "data": {
      "text/html": [
       "<div>\n",
       "<style scoped>\n",
       "    .dataframe tbody tr th:only-of-type {\n",
       "        vertical-align: middle;\n",
       "    }\n",
       "\n",
       "    .dataframe tbody tr th {\n",
       "        vertical-align: top;\n",
       "    }\n",
       "\n",
       "    .dataframe thead th {\n",
       "        text-align: right;\n",
       "    }\n",
       "</style>\n",
       "<table border=\"1\" class=\"dataframe\">\n",
       "  <thead>\n",
       "    <tr style=\"text-align: right;\">\n",
       "      <th></th>\n",
       "      <th>experiment</th>\n",
       "      <th>image_size</th>\n",
       "      <th>batch_size</th>\n",
       "      <th>num_workers</th>\n",
       "      <th>folder</th>\n",
       "      <th>avg</th>\n",
       "      <th>stdev</th>\n",
       "    </tr>\n",
       "  </thead>\n",
       "  <tbody>\n",
       "    <tr>\n",
       "      <th>3</th>\n",
       "      <td>number of workers</td>\n",
       "      <td>224</td>\n",
       "      <td>32</td>\n",
       "      <td>1</td>\n",
       "      <td>train</td>\n",
       "      <td>407.618560</td>\n",
       "      <td>0.137508</td>\n",
       "    </tr>\n",
       "    <tr>\n",
       "      <th>4</th>\n",
       "      <td>number of workers</td>\n",
       "      <td>224</td>\n",
       "      <td>32</td>\n",
       "      <td>2</td>\n",
       "      <td>train</td>\n",
       "      <td>221.349816</td>\n",
       "      <td>0.134594</td>\n",
       "    </tr>\n",
       "    <tr>\n",
       "      <th>5</th>\n",
       "      <td>number of workers</td>\n",
       "      <td>224</td>\n",
       "      <td>32</td>\n",
       "      <td>3</td>\n",
       "      <td>train</td>\n",
       "      <td>163.525060</td>\n",
       "      <td>0.185003</td>\n",
       "    </tr>\n",
       "    <tr>\n",
       "      <th>6</th>\n",
       "      <td>number of workers</td>\n",
       "      <td>224</td>\n",
       "      <td>32</td>\n",
       "      <td>4</td>\n",
       "      <td>train</td>\n",
       "      <td>134.721007</td>\n",
       "      <td>0.591756</td>\n",
       "    </tr>\n",
       "    <tr>\n",
       "      <th>7</th>\n",
       "      <td>number of workers</td>\n",
       "      <td>224</td>\n",
       "      <td>32</td>\n",
       "      <td>5</td>\n",
       "      <td>train</td>\n",
       "      <td>119.305661</td>\n",
       "      <td>0.432347</td>\n",
       "    </tr>\n",
       "    <tr>\n",
       "      <th>8</th>\n",
       "      <td>number of workers</td>\n",
       "      <td>224</td>\n",
       "      <td>32</td>\n",
       "      <td>6</td>\n",
       "      <td>train</td>\n",
       "      <td>110.264436</td>\n",
       "      <td>0.347007</td>\n",
       "    </tr>\n",
       "    <tr>\n",
       "      <th>9</th>\n",
       "      <td>number of workers</td>\n",
       "      <td>224</td>\n",
       "      <td>32</td>\n",
       "      <td>12</td>\n",
       "      <td>train</td>\n",
       "      <td>97.747387</td>\n",
       "      <td>0.271644</td>\n",
       "    </tr>\n",
       "    <tr>\n",
       "      <th>10</th>\n",
       "      <td>number of workers</td>\n",
       "      <td>224</td>\n",
       "      <td>32</td>\n",
       "      <td>20</td>\n",
       "      <td>train</td>\n",
       "      <td>94.202915</td>\n",
       "      <td>0.475146</td>\n",
       "    </tr>\n",
       "    <tr>\n",
       "      <th>17</th>\n",
       "      <td>batch_size_plus_workers</td>\n",
       "      <td>224</td>\n",
       "      <td>128</td>\n",
       "      <td>1</td>\n",
       "      <td>train</td>\n",
       "      <td>389.047040</td>\n",
       "      <td>0.217493</td>\n",
       "    </tr>\n",
       "    <tr>\n",
       "      <th>18</th>\n",
       "      <td>batch_size_plus_workers</td>\n",
       "      <td>224</td>\n",
       "      <td>128</td>\n",
       "      <td>2</td>\n",
       "      <td>train</td>\n",
       "      <td>206.135030</td>\n",
       "      <td>0.309222</td>\n",
       "    </tr>\n",
       "    <tr>\n",
       "      <th>19</th>\n",
       "      <td>batch_size_plus_workers</td>\n",
       "      <td>224</td>\n",
       "      <td>128</td>\n",
       "      <td>3</td>\n",
       "      <td>train</td>\n",
       "      <td>151.892140</td>\n",
       "      <td>0.435716</td>\n",
       "    </tr>\n",
       "    <tr>\n",
       "      <th>20</th>\n",
       "      <td>batch_size_plus_workers</td>\n",
       "      <td>224</td>\n",
       "      <td>128</td>\n",
       "      <td>4</td>\n",
       "      <td>train</td>\n",
       "      <td>124.361423</td>\n",
       "      <td>0.674971</td>\n",
       "    </tr>\n",
       "    <tr>\n",
       "      <th>21</th>\n",
       "      <td>batch_size_plus_workers</td>\n",
       "      <td>224</td>\n",
       "      <td>128</td>\n",
       "      <td>5</td>\n",
       "      <td>train</td>\n",
       "      <td>110.705579</td>\n",
       "      <td>0.595534</td>\n",
       "    </tr>\n",
       "    <tr>\n",
       "      <th>22</th>\n",
       "      <td>batch_size_plus_workers</td>\n",
       "      <td>224</td>\n",
       "      <td>128</td>\n",
       "      <td>6</td>\n",
       "      <td>train</td>\n",
       "      <td>100.934799</td>\n",
       "      <td>0.433815</td>\n",
       "    </tr>\n",
       "    <tr>\n",
       "      <th>23</th>\n",
       "      <td>batch_size_plus_workers</td>\n",
       "      <td>224</td>\n",
       "      <td>128</td>\n",
       "      <td>12</td>\n",
       "      <td>train</td>\n",
       "      <td>89.527574</td>\n",
       "      <td>0.253408</td>\n",
       "    </tr>\n",
       "    <tr>\n",
       "      <th>24</th>\n",
       "      <td>batch_size_plus_workers</td>\n",
       "      <td>224</td>\n",
       "      <td>128</td>\n",
       "      <td>20</td>\n",
       "      <td>train</td>\n",
       "      <td>89.155830</td>\n",
       "      <td>0.170810</td>\n",
       "    </tr>\n",
       "  </tbody>\n",
       "</table>\n",
       "</div>"
      ],
      "text/plain": [
       "                 experiment image_size batch_size num_workers folder  \\\n",
       "3         number of workers        224         32           1  train   \n",
       "4         number of workers        224         32           2  train   \n",
       "5         number of workers        224         32           3  train   \n",
       "6         number of workers        224         32           4  train   \n",
       "7         number of workers        224         32           5  train   \n",
       "8         number of workers        224         32           6  train   \n",
       "9         number of workers        224         32          12  train   \n",
       "10        number of workers        224         32          20  train   \n",
       "17  batch_size_plus_workers        224        128           1  train   \n",
       "18  batch_size_plus_workers        224        128           2  train   \n",
       "19  batch_size_plus_workers        224        128           3  train   \n",
       "20  batch_size_plus_workers        224        128           4  train   \n",
       "21  batch_size_plus_workers        224        128           5  train   \n",
       "22  batch_size_plus_workers        224        128           6  train   \n",
       "23  batch_size_plus_workers        224        128          12  train   \n",
       "24  batch_size_plus_workers        224        128          20  train   \n",
       "\n",
       "           avg     stdev  \n",
       "3   407.618560  0.137508  \n",
       "4   221.349816  0.134594  \n",
       "5   163.525060  0.185003  \n",
       "6   134.721007  0.591756  \n",
       "7   119.305661  0.432347  \n",
       "8   110.264436  0.347007  \n",
       "9    97.747387  0.271644  \n",
       "10   94.202915  0.475146  \n",
       "17  389.047040  0.217493  \n",
       "18  206.135030  0.309222  \n",
       "19  151.892140  0.435716  \n",
       "20  124.361423  0.674971  \n",
       "21  110.705579  0.595534  \n",
       "22  100.934799  0.433815  \n",
       "23   89.527574  0.253408  \n",
       "24   89.155830  0.170810  "
      ]
     },
     "execution_count": 116,
     "metadata": {},
     "output_type": "execute_result"
    }
   ],
   "source": [
    "compare = exp_param[exp_param.experiment.isin(['number of workers', 'batch_size_plus_workers'])];\n",
    "compare\n"
   ]
  },
  {
   "cell_type": "code",
   "execution_count": 106,
   "metadata": {},
   "outputs": [
    {
     "data": {
      "text/html": [
       "<div>\n",
       "<style scoped>\n",
       "    .dataframe tbody tr th:only-of-type {\n",
       "        vertical-align: middle;\n",
       "    }\n",
       "\n",
       "    .dataframe tbody tr th {\n",
       "        vertical-align: top;\n",
       "    }\n",
       "\n",
       "    .dataframe thead th {\n",
       "        text-align: right;\n",
       "    }\n",
       "</style>\n",
       "<table border=\"1\" class=\"dataframe\">\n",
       "  <thead>\n",
       "    <tr style=\"text-align: right;\">\n",
       "      <th></th>\n",
       "      <th>experiment</th>\n",
       "      <th>image_size</th>\n",
       "      <th>batch_size</th>\n",
       "      <th>num_workers</th>\n",
       "      <th>folder</th>\n",
       "      <th>avg</th>\n",
       "      <th>stdev</th>\n",
       "    </tr>\n",
       "  </thead>\n",
       "  <tbody>\n",
       "    <tr>\n",
       "      <th>16</th>\n",
       "      <td>batch_size</td>\n",
       "      <td>224</td>\n",
       "      <td>128</td>\n",
       "      <td>0</td>\n",
       "      <td>train</td>\n",
       "      <td>365.536582</td>\n",
       "      <td>0.599987</td>\n",
       "    </tr>\n",
       "    <tr>\n",
       "      <th>17</th>\n",
       "      <td>batch_size_plus_workers</td>\n",
       "      <td>224</td>\n",
       "      <td>128</td>\n",
       "      <td>1</td>\n",
       "      <td>train</td>\n",
       "      <td>389.047040</td>\n",
       "      <td>0.217493</td>\n",
       "    </tr>\n",
       "    <tr>\n",
       "      <th>18</th>\n",
       "      <td>batch_size_plus_workers</td>\n",
       "      <td>224</td>\n",
       "      <td>128</td>\n",
       "      <td>2</td>\n",
       "      <td>train</td>\n",
       "      <td>206.135030</td>\n",
       "      <td>0.309222</td>\n",
       "    </tr>\n",
       "    <tr>\n",
       "      <th>19</th>\n",
       "      <td>batch_size_plus_workers</td>\n",
       "      <td>224</td>\n",
       "      <td>128</td>\n",
       "      <td>3</td>\n",
       "      <td>train</td>\n",
       "      <td>151.892140</td>\n",
       "      <td>0.435716</td>\n",
       "    </tr>\n",
       "    <tr>\n",
       "      <th>20</th>\n",
       "      <td>batch_size_plus_workers</td>\n",
       "      <td>224</td>\n",
       "      <td>128</td>\n",
       "      <td>4</td>\n",
       "      <td>train</td>\n",
       "      <td>124.361423</td>\n",
       "      <td>0.674971</td>\n",
       "    </tr>\n",
       "    <tr>\n",
       "      <th>21</th>\n",
       "      <td>batch_size_plus_workers</td>\n",
       "      <td>224</td>\n",
       "      <td>128</td>\n",
       "      <td>5</td>\n",
       "      <td>train</td>\n",
       "      <td>110.705579</td>\n",
       "      <td>0.595534</td>\n",
       "    </tr>\n",
       "    <tr>\n",
       "      <th>22</th>\n",
       "      <td>batch_size_plus_workers</td>\n",
       "      <td>224</td>\n",
       "      <td>128</td>\n",
       "      <td>6</td>\n",
       "      <td>train</td>\n",
       "      <td>100.934799</td>\n",
       "      <td>0.433815</td>\n",
       "    </tr>\n",
       "    <tr>\n",
       "      <th>23</th>\n",
       "      <td>batch_size_plus_workers</td>\n",
       "      <td>224</td>\n",
       "      <td>128</td>\n",
       "      <td>12</td>\n",
       "      <td>train</td>\n",
       "      <td>89.527574</td>\n",
       "      <td>0.253408</td>\n",
       "    </tr>\n",
       "    <tr>\n",
       "      <th>24</th>\n",
       "      <td>batch_size_plus_workers</td>\n",
       "      <td>224</td>\n",
       "      <td>128</td>\n",
       "      <td>20</td>\n",
       "      <td>train</td>\n",
       "      <td>89.155830</td>\n",
       "      <td>0.170810</td>\n",
       "    </tr>\n",
       "  </tbody>\n",
       "</table>\n",
       "</div>"
      ],
      "text/plain": [
       "                 experiment image_size batch_size num_workers folder  \\\n",
       "16               batch_size        224        128           0  train   \n",
       "17  batch_size_plus_workers        224        128           1  train   \n",
       "18  batch_size_plus_workers        224        128           2  train   \n",
       "19  batch_size_plus_workers        224        128           3  train   \n",
       "20  batch_size_plus_workers        224        128           4  train   \n",
       "21  batch_size_plus_workers        224        128           5  train   \n",
       "22  batch_size_plus_workers        224        128           6  train   \n",
       "23  batch_size_plus_workers        224        128          12  train   \n",
       "24  batch_size_plus_workers        224        128          20  train   \n",
       "\n",
       "           avg     stdev  \n",
       "16  365.536582  0.599987  \n",
       "17  389.047040  0.217493  \n",
       "18  206.135030  0.309222  \n",
       "19  151.892140  0.435716  \n",
       "20  124.361423  0.674971  \n",
       "21  110.705579  0.595534  \n",
       "22  100.934799  0.433815  \n",
       "23   89.527574  0.253408  \n",
       "24   89.155830  0.170810  "
      ]
     },
     "execution_count": 106,
     "metadata": {},
     "output_type": "execute_result"
    }
   ],
   "source": [
    "compare = exp_param[exp_param.experiment.isin(['batch_size', 'batch_size_plus_workers']) & (exp_param.batch_size == 128)];\n",
    "compare"
   ]
  },
  {
   "cell_type": "code",
   "execution_count": 114,
   "metadata": {},
   "outputs": [
    {
     "data": {
      "text/plain": [
       "<BarContainer object of 9 artists>"
      ]
     },
     "execution_count": 114,
     "metadata": {},
     "output_type": "execute_result"
    },
    {
     "data": {
      "image/png": "[encoded data removed]",
      "text/plain": [
       "<Figure size 432x288 with 1 Axes>"
      ]
     },
     "metadata": {
      "needs_background": "light"
     },
     "output_type": "display_data"
    }
   ],
   "source": [
    "plt.bar(compare.num_workers, compare.avg/60, yerr=compare.stdev/60)"
   ]
  },
  {
   "cell_type": "code",
   "execution_count": 117,
   "metadata": {},
   "outputs": [
    {
     "data": {
      "text/plain": [
       "<matplotlib.legend.Legend at 0x7fdd036815f8>"
      ]
     },
     "execution_count": 117,
     "metadata": {},
     "output_type": "execute_result"
    },
    {
     "data": {
      "image/png": "[encoded data removed]",
      "text/plain": [
       "<Figure size 432x288 with 1 Axes>"
      ]
     },
     "metadata": {
      "needs_background": "light"
     },
     "output_type": "display_data"
    }
   ],
   "source": [
    "for label, df_group in compare.groupby('experiment'):\n",
    "    plt.bar(str(df_group.num_workers), df_group.avg/60, df_group.stdev/60, label=label)\n",
    "\n",
    "plt.legend()"
   ]
  },
  {
   "cell_type": "code",
   "execution_count": 112,
   "metadata": {},
   "outputs": [
    {
     "data": {
      "text/plain": [
       "<BarContainer object of 9 artists>"
      ]
     },
     "execution_count": 112,
     "metadata": {},
     "output_type": "execute_result"
    },
    {
     "data": {
      "image/png": "[encoded data removed]",
      "text/plain": [
       "<Figure size 432x288 with 1 Axes>"
      ]
     },
     "metadata": {
      "needs_background": "light"
     },
     "output_type": "display_data"
    }
   ],
   "source": [
    "plt.bar(compare.experiment, compare.avg/60)"
   ]
  },
  {
   "cell_type": "code",
   "execution_count": null,
   "metadata": {},
   "outputs": [],
   "source": []
  },
  {
   "cell_type": "code",
   "execution_count": null,
   "metadata": {},
   "outputs": [],
   "source": []
  },
  {
   "cell_type": "markdown",
   "metadata": {},
   "source": [
    "## Experiment 4: Preprocess image by resizing and saving the result"
   ]
  },
  {
   "cell_type": "markdown",
   "metadata": {},
   "source": [
    "### Saving images as 224x224"
   ]
  },
  {
   "cell_type": "code",
   "execution_count": 18,
   "metadata": {},
   "outputs": [],
   "source": [
    "dest = utils.data_fp/'train_224'\n",
    "dest.mkdir(parents=True, exist_ok=True)\n",
    "il = ImageImageList.from_folder(utils.data_train)  # get the list of images in train folder"
   ]
  },
  {
   "cell_type": "code",
   "execution_count": 35,
   "metadata": {},
   "outputs": [],
   "source": [
    "def resize_tfms(fn, i):\n",
    "    img = vision.open_image(fn)\n",
    "    img = img.apply_tfms([vision.crop_pad()], size=224, resize_method=ResizeMethod.PAD, padding_mode='border')\n",
    "    img.save(dest/fn.name)"
   ]
  },
  {
   "cell_type": "code",
   "execution_count": 36,
   "metadata": {},
   "outputs": [
    {
     "data": {
      "text/html": [
       "\n",
       "    <div>\n",
       "        <style>\n",
       "            /* Turns off some styling */\n",
       "            progress {\n",
       "                /* gets rid of default border in Firefox and Opera. */\n",
       "                border: none;\n",
       "                /* Needs to be in here for Safari polyfill so background images work as expected. */\n",
       "                background-size: auto;\n",
       "            }\n",
       "            .progress-bar-interrupted, .progress-bar-interrupted::-webkit-progress-bar {\n",
       "                background: #F44336;\n",
       "            }\n",
       "        </style>\n",
       "      <progress value='25361' class='' max='25361', style='width:300px; height:20px; vertical-align: middle;'></progress>\n",
       "      100.00% [25361/25361 10:25<00:00]\n",
       "    </div>\n",
       "    "
      ],
      "text/plain": [
       "<IPython.core.display.HTML object>"
      ]
     },
     "metadata": {},
     "output_type": "display_data"
    },
    {
     "name": "stdout",
     "output_type": "stream",
     "text": [
      "CPU times: user 12.8 s, sys: 1.75 s, total: 14.6 s\n",
      "Wall time: 10min 26s\n"
     ]
    }
   ],
   "source": [
    "%%time \n",
    "fastai.callback.parallel(resize_tfms, il.items)  # num_workers = default.cpus which is 12"
   ]
  },
  {
   "cell_type": "code",
   "execution_count": 98,
   "metadata": {},
   "outputs": [
    {
     "name": "stdout",
     "output_type": "stream",
     "text": [
      "4.3G\t./data/train\n",
      "244M\t./data/train_224\n"
     ]
    }
   ],
   "source": [
    "!du -sh ./data/train\n",
    "!du -sh ./data/train_224"
   ]
  },
  {
   "cell_type": "markdown",
   "metadata": {},
   "source": [
    "### Test loading"
   ]
  },
  {
   "cell_type": "code",
   "execution_count": 63,
   "metadata": {},
   "outputs": [],
   "source": [
    "param = param_baseline.copy()\n",
    "param['experiment'] = 'resized_image2'\n",
    "param['folder'] = 'train_224'\n",
    "param['num_workers'] = 4"
   ]
  },
  {
   "cell_type": "code",
   "execution_count": 64,
   "metadata": {},
   "outputs": [
    {
     "name": "stdout",
     "output_type": "stream",
     "text": [
      "2min 15s ± 676 ms per loop (mean ± std. dev. of 3 runs, 1 loop each)\n"
     ]
    }
   ],
   "source": [
    "result = %timeit -n1 -r3 -o load_train_image(get_data(param))"
   ]
  },
  {
   "cell_type": "code",
   "execution_count": 65,
   "metadata": {},
   "outputs": [],
   "source": [
    "param['avg'], param['stdev'] = result.average, result.stdev\n",
    "exp_param = exp_param.append(param, ignore_index=True)"
   ]
  },
  {
   "cell_type": "code",
   "execution_count": 89,
   "metadata": {},
   "outputs": [
    {
     "data": {
      "text/html": [
       "<div>\n",
       "<style scoped>\n",
       "    .dataframe tbody tr th:only-of-type {\n",
       "        vertical-align: middle;\n",
       "    }\n",
       "\n",
       "    .dataframe tbody tr th {\n",
       "        vertical-align: top;\n",
       "    }\n",
       "\n",
       "    .dataframe thead th {\n",
       "        text-align: right;\n",
       "    }\n",
       "</style>\n",
       "<table border=\"1\" class=\"dataframe\">\n",
       "  <thead>\n",
       "    <tr style=\"text-align: right;\">\n",
       "      <th></th>\n",
       "      <th>experiment</th>\n",
       "      <th>image_size</th>\n",
       "      <th>batch_size</th>\n",
       "      <th>num_workers</th>\n",
       "      <th>folder</th>\n",
       "      <th>avg</th>\n",
       "      <th>stdev</th>\n",
       "    </tr>\n",
       "  </thead>\n",
       "  <tbody>\n",
       "    <tr>\n",
       "      <th>6</th>\n",
       "      <td>number of workers</td>\n",
       "      <td>224</td>\n",
       "      <td>32</td>\n",
       "      <td>4</td>\n",
       "      <td>train</td>\n",
       "      <td>134.721007</td>\n",
       "      <td>0.591756</td>\n",
       "    </tr>\n",
       "    <tr>\n",
       "      <th>0</th>\n",
       "      <td>resized_image</td>\n",
       "      <td>224</td>\n",
       "      <td>32</td>\n",
       "      <td>4</td>\n",
       "      <td>train_224</td>\n",
       "      <td>136.922661</td>\n",
       "      <td>2.154793</td>\n",
       "    </tr>\n",
       "    <tr>\n",
       "      <th>25</th>\n",
       "      <td>resized_image2</td>\n",
       "      <td>224</td>\n",
       "      <td>32</td>\n",
       "      <td>4</td>\n",
       "      <td>train_224</td>\n",
       "      <td>135.136805</td>\n",
       "      <td>0.675696</td>\n",
       "    </tr>\n",
       "  </tbody>\n",
       "</table>\n",
       "</div>"
      ],
      "text/plain": [
       "           experiment image_size batch_size num_workers     folder  \\\n",
       "6   number of workers        224         32           4      train   \n",
       "0       resized_image        224         32           4  train_224   \n",
       "25     resized_image2        224         32           4  train_224   \n",
       "\n",
       "           avg     stdev  \n",
       "6   134.721007  0.591756  \n",
       "0   136.922661  2.154793  \n",
       "25  135.136805  0.675696  "
      ]
     },
     "execution_count": 89,
     "metadata": {},
     "output_type": "execute_result"
    }
   ],
   "source": [
    "compare = exp_param[(exp_param.batch_size == 32) & (exp_param.num_workers == 4)].sort_values('experiment');\n",
    "compare"
   ]
  },
  {
   "cell_type": "code",
   "execution_count": 99,
   "metadata": {},
   "outputs": [
    {
     "data": {
      "image/png": "[encoded data removed]",
      "text/plain": [
       "<Figure size 432x288 with 1 Axes>"
      ]
     },
     "metadata": {
      "needs_background": "light"
     },
     "output_type": "display_data"
    }
   ],
   "source": [
    "plt.bar(compare.experiment, compare.avg/60, yerr=compare.stdev/60)\n",
    "plt.title('Does loading already resize image speed things up?')\n",
    "plt.ylabel('Run Time (min)');"
   ]
  },
  {
   "cell_type": "markdown",
   "metadata": {},
   "source": [
    "**Conclusion**: Saving resized image did not decrease the time it takes to load in the images. "
   ]
  },
  {
   "cell_type": "markdown",
   "metadata": {},
   "source": [
    "### Experiment 4b: just loading a image"
   ]
  },
  {
   "cell_type": "code",
   "execution_count": 68,
   "metadata": {},
   "outputs": [
    {
     "name": "stdout",
     "output_type": "stream",
     "text": [
      "12.4 ms ± 1.45 ms per loop (mean ± std. dev. of 3 runs, 3 loops each)\n"
     ]
    }
   ],
   "source": [
    "%timeit -n3 -r3 img=vision.open_image(il.items[0])"
   ]
  },
  {
   "cell_type": "markdown",
   "metadata": {},
   "source": [
    "## Export result"
   ]
  },
  {
   "cell_type": "code",
   "execution_count": 23,
   "metadata": {},
   "outputs": [],
   "source": [
    "exp_copy = exp_param.copy()"
   ]
  },
  {
   "cell_type": "code",
   "execution_count": 66,
   "metadata": {},
   "outputs": [
    {
     "data": {
      "text/html": [
       "<div>\n",
       "<style scoped>\n",
       "    .dataframe tbody tr th:only-of-type {\n",
       "        vertical-align: middle;\n",
       "    }\n",
       "\n",
       "    .dataframe tbody tr th {\n",
       "        vertical-align: top;\n",
       "    }\n",
       "\n",
       "    .dataframe thead th {\n",
       "        text-align: right;\n",
       "    }\n",
       "</style>\n",
       "<table border=\"1\" class=\"dataframe\">\n",
       "  <thead>\n",
       "    <tr style=\"text-align: right;\">\n",
       "      <th></th>\n",
       "      <th>experiment</th>\n",
       "      <th>image_size</th>\n",
       "      <th>batch_size</th>\n",
       "      <th>num_workers</th>\n",
       "      <th>folder</th>\n",
       "      <th>avg</th>\n",
       "      <th>stdev</th>\n",
       "    </tr>\n",
       "  </thead>\n",
       "  <tbody>\n",
       "    <tr>\n",
       "      <th>0</th>\n",
       "      <td>resized_image</td>\n",
       "      <td>224</td>\n",
       "      <td>32</td>\n",
       "      <td>4</td>\n",
       "      <td>train_224</td>\n",
       "      <td>136.922661</td>\n",
       "      <td>2.154793</td>\n",
       "    </tr>\n",
       "    <tr>\n",
       "      <th>1</th>\n",
       "      <td>baseline</td>\n",
       "      <td>224</td>\n",
       "      <td>32</td>\n",
       "      <td>0</td>\n",
       "      <td>train</td>\n",
       "      <td>362.713806</td>\n",
       "      <td>0.764078</td>\n",
       "    </tr>\n",
       "    <tr>\n",
       "      <th>2</th>\n",
       "      <td>baseline2</td>\n",
       "      <td>224</td>\n",
       "      <td>32</td>\n",
       "      <td>0</td>\n",
       "      <td>train</td>\n",
       "      <td>361.873582</td>\n",
       "      <td>0.543994</td>\n",
       "    </tr>\n",
       "    <tr>\n",
       "      <th>3</th>\n",
       "      <td>number of workers</td>\n",
       "      <td>224</td>\n",
       "      <td>32</td>\n",
       "      <td>1</td>\n",
       "      <td>train</td>\n",
       "      <td>407.618560</td>\n",
       "      <td>0.137508</td>\n",
       "    </tr>\n",
       "    <tr>\n",
       "      <th>4</th>\n",
       "      <td>number of workers</td>\n",
       "      <td>224</td>\n",
       "      <td>32</td>\n",
       "      <td>2</td>\n",
       "      <td>train</td>\n",
       "      <td>221.349816</td>\n",
       "      <td>0.134594</td>\n",
       "    </tr>\n",
       "    <tr>\n",
       "      <th>5</th>\n",
       "      <td>number of workers</td>\n",
       "      <td>224</td>\n",
       "      <td>32</td>\n",
       "      <td>3</td>\n",
       "      <td>train</td>\n",
       "      <td>163.525060</td>\n",
       "      <td>0.185003</td>\n",
       "    </tr>\n",
       "    <tr>\n",
       "      <th>6</th>\n",
       "      <td>number of workers</td>\n",
       "      <td>224</td>\n",
       "      <td>32</td>\n",
       "      <td>4</td>\n",
       "      <td>train</td>\n",
       "      <td>134.721007</td>\n",
       "      <td>0.591756</td>\n",
       "    </tr>\n",
       "    <tr>\n",
       "      <th>7</th>\n",
       "      <td>number of workers</td>\n",
       "      <td>224</td>\n",
       "      <td>32</td>\n",
       "      <td>5</td>\n",
       "      <td>train</td>\n",
       "      <td>119.305661</td>\n",
       "      <td>0.432347</td>\n",
       "    </tr>\n",
       "    <tr>\n",
       "      <th>8</th>\n",
       "      <td>number of workers</td>\n",
       "      <td>224</td>\n",
       "      <td>32</td>\n",
       "      <td>6</td>\n",
       "      <td>train</td>\n",
       "      <td>110.264436</td>\n",
       "      <td>0.347007</td>\n",
       "    </tr>\n",
       "    <tr>\n",
       "      <th>9</th>\n",
       "      <td>number of workers</td>\n",
       "      <td>224</td>\n",
       "      <td>32</td>\n",
       "      <td>12</td>\n",
       "      <td>train</td>\n",
       "      <td>97.747387</td>\n",
       "      <td>0.271644</td>\n",
       "    </tr>\n",
       "    <tr>\n",
       "      <th>10</th>\n",
       "      <td>number of workers</td>\n",
       "      <td>224</td>\n",
       "      <td>32</td>\n",
       "      <td>20</td>\n",
       "      <td>train</td>\n",
       "      <td>94.202915</td>\n",
       "      <td>0.475146</td>\n",
       "    </tr>\n",
       "    <tr>\n",
       "      <th>11</th>\n",
       "      <td>batch_size</td>\n",
       "      <td>224</td>\n",
       "      <td>1</td>\n",
       "      <td>0</td>\n",
       "      <td>train</td>\n",
       "      <td>366.047360</td>\n",
       "      <td>1.133135</td>\n",
       "    </tr>\n",
       "    <tr>\n",
       "      <th>12</th>\n",
       "      <td>batch_size</td>\n",
       "      <td>224</td>\n",
       "      <td>8</td>\n",
       "      <td>0</td>\n",
       "      <td>train</td>\n",
       "      <td>362.002107</td>\n",
       "      <td>0.387681</td>\n",
       "    </tr>\n",
       "    <tr>\n",
       "      <th>13</th>\n",
       "      <td>batch_size</td>\n",
       "      <td>224</td>\n",
       "      <td>16</td>\n",
       "      <td>0</td>\n",
       "      <td>train</td>\n",
       "      <td>361.648684</td>\n",
       "      <td>0.490295</td>\n",
       "    </tr>\n",
       "    <tr>\n",
       "      <th>14</th>\n",
       "      <td>batch_size</td>\n",
       "      <td>224</td>\n",
       "      <td>32</td>\n",
       "      <td>0</td>\n",
       "      <td>train</td>\n",
       "      <td>361.197191</td>\n",
       "      <td>1.102250</td>\n",
       "    </tr>\n",
       "    <tr>\n",
       "      <th>15</th>\n",
       "      <td>batch_size</td>\n",
       "      <td>224</td>\n",
       "      <td>64</td>\n",
       "      <td>0</td>\n",
       "      <td>train</td>\n",
       "      <td>363.242590</td>\n",
       "      <td>0.396702</td>\n",
       "    </tr>\n",
       "    <tr>\n",
       "      <th>16</th>\n",
       "      <td>batch_size</td>\n",
       "      <td>224</td>\n",
       "      <td>128</td>\n",
       "      <td>0</td>\n",
       "      <td>train</td>\n",
       "      <td>365.536582</td>\n",
       "      <td>0.599987</td>\n",
       "    </tr>\n",
       "    <tr>\n",
       "      <th>17</th>\n",
       "      <td>batch_size_plus_workers</td>\n",
       "      <td>224</td>\n",
       "      <td>128</td>\n",
       "      <td>1</td>\n",
       "      <td>train</td>\n",
       "      <td>389.047040</td>\n",
       "      <td>0.217493</td>\n",
       "    </tr>\n",
       "    <tr>\n",
       "      <th>18</th>\n",
       "      <td>batch_size_plus_workers</td>\n",
       "      <td>224</td>\n",
       "      <td>128</td>\n",
       "      <td>2</td>\n",
       "      <td>train</td>\n",
       "      <td>206.135030</td>\n",
       "      <td>0.309222</td>\n",
       "    </tr>\n",
       "    <tr>\n",
       "      <th>19</th>\n",
       "      <td>batch_size_plus_workers</td>\n",
       "      <td>224</td>\n",
       "      <td>128</td>\n",
       "      <td>3</td>\n",
       "      <td>train</td>\n",
       "      <td>151.892140</td>\n",
       "      <td>0.435716</td>\n",
       "    </tr>\n",
       "    <tr>\n",
       "      <th>20</th>\n",
       "      <td>batch_size_plus_workers</td>\n",
       "      <td>224</td>\n",
       "      <td>128</td>\n",
       "      <td>4</td>\n",
       "      <td>train</td>\n",
       "      <td>124.361423</td>\n",
       "      <td>0.674971</td>\n",
       "    </tr>\n",
       "    <tr>\n",
       "      <th>21</th>\n",
       "      <td>batch_size_plus_workers</td>\n",
       "      <td>224</td>\n",
       "      <td>128</td>\n",
       "      <td>5</td>\n",
       "      <td>train</td>\n",
       "      <td>110.705579</td>\n",
       "      <td>0.595534</td>\n",
       "    </tr>\n",
       "    <tr>\n",
       "      <th>22</th>\n",
       "      <td>batch_size_plus_workers</td>\n",
       "      <td>224</td>\n",
       "      <td>128</td>\n",
       "      <td>6</td>\n",
       "      <td>train</td>\n",
       "      <td>100.934799</td>\n",
       "      <td>0.433815</td>\n",
       "    </tr>\n",
       "    <tr>\n",
       "      <th>23</th>\n",
       "      <td>batch_size_plus_workers</td>\n",
       "      <td>224</td>\n",
       "      <td>128</td>\n",
       "      <td>12</td>\n",
       "      <td>train</td>\n",
       "      <td>89.527574</td>\n",
       "      <td>0.253408</td>\n",
       "    </tr>\n",
       "    <tr>\n",
       "      <th>24</th>\n",
       "      <td>batch_size_plus_workers</td>\n",
       "      <td>224</td>\n",
       "      <td>128</td>\n",
       "      <td>20</td>\n",
       "      <td>train</td>\n",
       "      <td>89.155830</td>\n",
       "      <td>0.170810</td>\n",
       "    </tr>\n",
       "    <tr>\n",
       "      <th>25</th>\n",
       "      <td>resized_image2</td>\n",
       "      <td>224</td>\n",
       "      <td>32</td>\n",
       "      <td>4</td>\n",
       "      <td>train_224</td>\n",
       "      <td>135.136805</td>\n",
       "      <td>0.675696</td>\n",
       "    </tr>\n",
       "  </tbody>\n",
       "</table>\n",
       "</div>"
      ],
      "text/plain": [
       "                 experiment image_size batch_size num_workers     folder  \\\n",
       "0             resized_image        224         32           4  train_224   \n",
       "1                  baseline        224         32           0      train   \n",
       "2                 baseline2        224         32           0      train   \n",
       "3         number of workers        224         32           1      train   \n",
       "4         number of workers        224         32           2      train   \n",
       "5         number of workers        224         32           3      train   \n",
       "6         number of workers        224         32           4      train   \n",
       "7         number of workers        224         32           5      train   \n",
       "8         number of workers        224         32           6      train   \n",
       "9         number of workers        224         32          12      train   \n",
       "10        number of workers        224         32          20      train   \n",
       "11               batch_size        224          1           0      train   \n",
       "12               batch_size        224          8           0      train   \n",
       "13               batch_size        224         16           0      train   \n",
       "14               batch_size        224         32           0      train   \n",
       "15               batch_size        224         64           0      train   \n",
       "16               batch_size        224        128           0      train   \n",
       "17  batch_size_plus_workers        224        128           1      train   \n",
       "18  batch_size_plus_workers        224        128           2      train   \n",
       "19  batch_size_plus_workers        224        128           3      train   \n",
       "20  batch_size_plus_workers        224        128           4      train   \n",
       "21  batch_size_plus_workers        224        128           5      train   \n",
       "22  batch_size_plus_workers        224        128           6      train   \n",
       "23  batch_size_plus_workers        224        128          12      train   \n",
       "24  batch_size_plus_workers        224        128          20      train   \n",
       "25           resized_image2        224         32           4  train_224   \n",
       "\n",
       "           avg     stdev  \n",
       "0   136.922661  2.154793  \n",
       "1   362.713806  0.764078  \n",
       "2   361.873582  0.543994  \n",
       "3   407.618560  0.137508  \n",
       "4   221.349816  0.134594  \n",
       "5   163.525060  0.185003  \n",
       "6   134.721007  0.591756  \n",
       "7   119.305661  0.432347  \n",
       "8   110.264436  0.347007  \n",
       "9    97.747387  0.271644  \n",
       "10   94.202915  0.475146  \n",
       "11  366.047360  1.133135  \n",
       "12  362.002107  0.387681  \n",
       "13  361.648684  0.490295  \n",
       "14  361.197191  1.102250  \n",
       "15  363.242590  0.396702  \n",
       "16  365.536582  0.599987  \n",
       "17  389.047040  0.217493  \n",
       "18  206.135030  0.309222  \n",
       "19  151.892140  0.435716  \n",
       "20  124.361423  0.674971  \n",
       "21  110.705579  0.595534  \n",
       "22  100.934799  0.433815  \n",
       "23   89.527574  0.253408  \n",
       "24   89.155830  0.170810  \n",
       "25  135.136805  0.675696  "
      ]
     },
     "execution_count": 66,
     "metadata": {},
     "output_type": "execute_result"
    }
   ],
   "source": [
    "exp_param"
   ]
  },
  {
   "cell_type": "code",
   "execution_count": 69,
   "metadata": {},
   "outputs": [],
   "source": [
    "exp_param.to_csv(utils.data_fp/'loading_runtime.csv', index=False)"
   ]
  },
  {
   "cell_type": "code",
   "execution_count": 9,
   "metadata": {},
   "outputs": [],
   "source": [
    "exp_param = pd.read_csv(utils.data_fp/'loading_runtime.csv')"
   ]
  },
  {
   "cell_type": "markdown",
   "metadata": {},
   "source": [
    "### Hardware of current system"
   ]
  },
  {
   "cell_type": "code",
   "execution_count": 70,
   "metadata": {},
   "outputs": [
    {
     "name": "stdout",
     "output_type": "stream",
     "text": [
      "WARNING: you should run this program as super-user.\n",
      "H/W path              Device   Class       Description\n",
      "======================================================\n",
      "/0/0                           memory      15GiB System memory\n",
      "/0/1                           processor   AMD Ryzen 5 1600 Six-Core Processor\n",
      "/0/100/1.3/0.2/4/0             display     GP106 [GeForce GTX 1060 6GB]\n",
      "/0/100/3.1/0                   display     GP106 [GeForce GTX 1060 6GB]\n",
      "WARNING: output may be incomplete or inaccurate, you should run this program as super-user.\n"
     ]
    }
   ],
   "source": [
    "hardware_info = !lshw -short -sanitize\n",
    "for line in hardware_info:\n",
    "    for word in ['WARNING','Description', '==', 'processor', 'memory', 'display']:\n",
    "        if word in line: print(line)"
   ]
  },
  {
   "cell_type": "code",
   "execution_count": null,
   "metadata": {},
   "outputs": [],
   "source": []
  }
 ],
 "metadata": {
  "kernelspec": {
   "display_name": "Python 3",
   "language": "python",
   "name": "python3"
  },
  "language_info": {
   "codemirror_mode": {
    "name": "ipython",
    "version": 3
   },
   "file_extension": ".py",
   "mimetype": "text/x-python",
   "name": "python",
   "nbconvert_exporter": "python",
   "pygments_lexer": "ipython3",
   "version": "3.7.3"
  }
 },
 "nbformat": 4,
 "nbformat_minor": 2
}
