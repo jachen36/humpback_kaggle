{
 "cells": [
  {
   "cell_type": "markdown",
   "metadata": {},
   "source": [
    "## How to efficiently load images?\n",
    "\n",
    "Things to consider:  \n",
    "* find how much time it takes to load and resize\n",
    "* find out if training is affected by saving them into smaller images\n",
    "* how does batchsize impact loading. Like \n",
    "* how does num_workers impact loading? if too many subprocess brings in overhead?\n",
    "* it would be increasing to load everything into ram and see how that goes\n",
    "    * need a custom dataset loader\n",
    "* batch size with num_workers is there an interaction for that. \n",
    "* Final test compare training time"
   ]
  },
  {
   "cell_type": "code",
   "execution_count": 1,
   "metadata": {},
   "outputs": [],
   "source": [
    "import fastai\n",
    "from fastai import *\n",
    "from fastai.vision import *\n",
    "import utils  # person functions\n",
    "\n",
    "%matplotlib inline"
   ]
  },
  {
   "cell_type": "code",
   "execution_count": 2,
   "metadata": {},
   "outputs": [],
   "source": [
    "# global variables\n",
    "labels='train_stratified_split.csv'\n",
    "padding_mode='border'\n",
    "param_baseline = {'experiment': 'baseline', \n",
    "                  'image_size': 224, \n",
    "                  'batch_size': 32, \n",
    "                  'num_workers':0, \n",
    "                  'folder':'train'}"
   ]
  },
  {
   "cell_type": "code",
   "execution_count": 3,
   "metadata": {},
   "outputs": [],
   "source": [
    "def load_train_image(data):\n",
    "    'Just load the data and nothing else'\n",
    "    for i, batch in enumerate(data.train_dl): \n",
    "        pass\n",
    "\n",
    "def get_data(params):\n",
    "    'wrapper function for parameter settings'\n",
    "    return utils.get_data(size=param['image_size'], \n",
    "                          bs=param['batch_size'], \n",
    "                          csv=labels, \n",
    "                          folder=param['folder'], \n",
    "                          num_workers=param['num_workers'], \n",
    "                          padding_mode=padding_mode)"
   ]
  },
  {
   "cell_type": "code",
   "execution_count": 4,
   "metadata": {},
   "outputs": [
    {
     "data": {
      "text/plain": [
       "['TfmCrop', 'TfmPixel', 'TfmCoord', 'TfmAffine', 'TfmLighting', 'TfmLighting']"
      ]
     },
     "execution_count": 4,
     "metadata": {},
     "output_type": "execute_result"
    }
   ],
   "source": [
    "tfms = get_transforms(flip_vert=False, max_zoom=1);\n",
    "[i.tfm.name for i in tfms[0]]  # transformation done on training data set"
   ]
  },
  {
   "cell_type": "code",
   "execution_count": 5,
   "metadata": {},
   "outputs": [
    {
     "data": {
      "text/plain": [
       "\u001b[0;31mSignature:\u001b[0m\n",
       "\u001b[0mvision\u001b[0m\u001b[0;34m.\u001b[0m\u001b[0mtransform\u001b[0m\u001b[0;34m.\u001b[0m\u001b[0m_crop_pad\u001b[0m\u001b[0;34m(\u001b[0m\u001b[0;34m\u001b[0m\n",
       "\u001b[0;34m\u001b[0m    \u001b[0mx\u001b[0m\u001b[0;34m,\u001b[0m\u001b[0;34m\u001b[0m\n",
       "\u001b[0;34m\u001b[0m    \u001b[0msize\u001b[0m\u001b[0;34m,\u001b[0m\u001b[0;34m\u001b[0m\n",
       "\u001b[0;34m\u001b[0m    \u001b[0mpadding_mode\u001b[0m\u001b[0;34m=\u001b[0m\u001b[0;34m'reflection'\u001b[0m\u001b[0;34m,\u001b[0m\u001b[0;34m\u001b[0m\n",
       "\u001b[0;34m\u001b[0m    \u001b[0mrow_pct\u001b[0m\u001b[0;34m:\u001b[0m \u001b[0;34m<\u001b[0m\u001b[0mfunction\u001b[0m \u001b[0muniform\u001b[0m \u001b[0mat\u001b[0m \u001b[0;36m0x7f5ff60cc0d0\u001b[0m\u001b[0;34m>\u001b[0m \u001b[0;34m=\u001b[0m \u001b[0;36m0.5\u001b[0m\u001b[0;34m,\u001b[0m\u001b[0;34m\u001b[0m\n",
       "\u001b[0;34m\u001b[0m    \u001b[0mcol_pct\u001b[0m\u001b[0;34m:\u001b[0m \u001b[0;34m<\u001b[0m\u001b[0mfunction\u001b[0m \u001b[0muniform\u001b[0m \u001b[0mat\u001b[0m \u001b[0;36m0x7f5ff60cc0d0\u001b[0m\u001b[0;34m>\u001b[0m \u001b[0;34m=\u001b[0m \u001b[0;36m0.5\u001b[0m\u001b[0;34m,\u001b[0m\u001b[0;34m\u001b[0m\n",
       "\u001b[0;34m\u001b[0m\u001b[0;34m)\u001b[0m \u001b[0;34m->\u001b[0m \u001b[0mfastai\u001b[0m\u001b[0;34m.\u001b[0m\u001b[0mvision\u001b[0m\u001b[0;34m.\u001b[0m\u001b[0mimage\u001b[0m\u001b[0;34m.\u001b[0m\u001b[0mImage\u001b[0m\u001b[0;34m\u001b[0m\u001b[0;34m\u001b[0m\u001b[0m\n",
       "\u001b[0;31mDocstring:\u001b[0m <no docstring>\n",
       "\u001b[0;31mSource:\u001b[0m   \n",
       "\u001b[0;32mdef\u001b[0m \u001b[0m_crop_pad\u001b[0m\u001b[0;34m(\u001b[0m\u001b[0mx\u001b[0m\u001b[0;34m,\u001b[0m \u001b[0msize\u001b[0m\u001b[0;34m,\u001b[0m \u001b[0mpadding_mode\u001b[0m\u001b[0;34m=\u001b[0m\u001b[0;34m'reflection'\u001b[0m\u001b[0;34m,\u001b[0m \u001b[0mrow_pct\u001b[0m\u001b[0;34m:\u001b[0m\u001b[0muniform\u001b[0m \u001b[0;34m=\u001b[0m \u001b[0;36m0.5\u001b[0m\u001b[0;34m,\u001b[0m \u001b[0mcol_pct\u001b[0m\u001b[0;34m:\u001b[0m\u001b[0muniform\u001b[0m \u001b[0;34m=\u001b[0m \u001b[0;36m0.5\u001b[0m\u001b[0;34m)\u001b[0m\u001b[0;34m:\u001b[0m\u001b[0;34m\u001b[0m\n",
       "\u001b[0;34m\u001b[0m    \u001b[0mf_crop_pad\u001b[0m \u001b[0;34m=\u001b[0m \u001b[0m_crop_pad_image_points\u001b[0m \u001b[0;32mif\u001b[0m \u001b[0misinstance\u001b[0m\u001b[0;34m(\u001b[0m\u001b[0mx\u001b[0m\u001b[0;34m,\u001b[0m \u001b[0mImagePoints\u001b[0m\u001b[0;34m)\u001b[0m \u001b[0;32melse\u001b[0m \u001b[0m_crop_pad_default\u001b[0m\u001b[0;34m\u001b[0m\n",
       "\u001b[0;34m\u001b[0m    \u001b[0;32mreturn\u001b[0m \u001b[0mf_crop_pad\u001b[0m\u001b[0;34m(\u001b[0m\u001b[0mx\u001b[0m\u001b[0;34m,\u001b[0m \u001b[0msize\u001b[0m\u001b[0;34m,\u001b[0m \u001b[0mpadding_mode\u001b[0m\u001b[0;34m,\u001b[0m \u001b[0mrow_pct\u001b[0m\u001b[0;34m,\u001b[0m \u001b[0mcol_pct\u001b[0m\u001b[0;34m)\u001b[0m\u001b[0;34m\u001b[0m\u001b[0;34m\u001b[0m\u001b[0m\n",
       "\u001b[0;31mFile:\u001b[0m      ~/anaconda3/lib/python3.7/site-packages/fastai/vision/transform.py\n",
       "\u001b[0;31mType:\u001b[0m      function\n"
      ]
     },
     "metadata": {},
     "output_type": "display_data"
    }
   ],
   "source": [
    "# first step is to resize the image\n",
    "vision.transform._crop_pad??"
   ]
  },
  {
   "cell_type": "code",
   "execution_count": 6,
   "metadata": {},
   "outputs": [],
   "source": [
    "exp_param = pd.DataFrame(columns=['experiment', 'image_size', 'batch_size', 'num_workers', 'folder', 'avg', 'stdev'])"
   ]
  },
  {
   "cell_type": "markdown",
   "metadata": {},
   "source": [
    "## Baseline: Loading unprocessed images\n",
    "How long does it take to load images from a dataloader with all the transformation?"
   ]
  },
  {
   "cell_type": "code",
   "execution_count": 7,
   "metadata": {},
   "outputs": [],
   "source": [
    "param = param_baseline.copy()"
   ]
  },
  {
   "cell_type": "code",
   "execution_count": 8,
   "metadata": {},
   "outputs": [
    {
     "name": "stdout",
     "output_type": "stream",
     "text": [
      "6min 2s ± 2.61 s per loop (mean ± std. dev. of 3 runs, 1 loop each)\n"
     ]
    }
   ],
   "source": [
    "result = %timeit -n1 -r3 -o load_train_image(get_data(param))"
   ]
  },
  {
   "cell_type": "code",
   "execution_count": 9,
   "metadata": {},
   "outputs": [],
   "source": [
    "param['avg'], param['stdev'] = result.average, result.stdev"
   ]
  },
  {
   "cell_type": "code",
   "execution_count": 10,
   "metadata": {},
   "outputs": [],
   "source": [
    "exp_param = exp_param.append(param, ignore_index=True)"
   ]
  },
  {
   "cell_type": "markdown",
   "metadata": {},
   "source": [
    "## Experiment 1: Number of workers\n",
    "How does the number of worker impact loading of the data?  \n",
    "Are there a limit before overhead becomes not worth it?"
   ]
  },
  {
   "cell_type": "code",
   "execution_count": 24,
   "metadata": {},
   "outputs": [],
   "source": [
    "workers_ls = [1,2,3,4,5,6,10,20]\n",
    "param = param_baseline.copy()\n",
    "param['experiment'] = 'number of workers'"
   ]
  },
  {
   "cell_type": "code",
   "execution_count": 25,
   "metadata": {},
   "outputs": [
    {
     "name": "stdout",
     "output_type": "stream",
     "text": [
      "Workers: 1\n",
      "6min 47s ± 338 ms per loop (mean ± std. dev. of 3 runs, 1 loop each)\n",
      "Workers: 2\n",
      "3min 41s ± 799 ms per loop (mean ± std. dev. of 3 runs, 1 loop each)\n",
      "Workers: 3\n",
      "2min 44s ± 422 ms per loop (mean ± std. dev. of 3 runs, 1 loop each)\n",
      "Workers: 4\n",
      "2min 15s ± 213 ms per loop (mean ± std. dev. of 3 runs, 1 loop each)\n",
      "Workers: 5\n",
      "2min ± 328 ms per loop (mean ± std. dev. of 3 runs, 1 loop each)\n",
      "Workers: 6\n",
      "1min 50s ± 486 ms per loop (mean ± std. dev. of 3 runs, 1 loop each)\n",
      "Workers: 10\n",
      "1min 36s ± 196 ms per loop (mean ± std. dev. of 3 runs, 1 loop each)\n",
      "Workers: 20\n",
      "1min 33s ± 857 ms per loop (mean ± std. dev. of 3 runs, 1 loop each)\n"
     ]
    }
   ],
   "source": [
    "for x in workers_ls:\n",
    "    print(f'Workers: {x}')\n",
    "    param['num_workers'] = x\n",
    "    result = %timeit -n1 -r3 -o load_train_image(get_data(param))\n",
    "    param['avg'], param['stdev'] = result.average, result.stdev\n",
    "    exp_param = exp_param.append(param, ignore_index=True)"
   ]
  },
  {
   "cell_type": "code",
   "execution_count": null,
   "metadata": {},
   "outputs": [],
   "source": [
    "#plot result? vs baseline?"
   ]
  },
  {
   "cell_type": "markdown",
   "metadata": {},
   "source": [
    "## Experiment 2: Batch Size\n",
    "\n",
    "Batch size shouldn't impact the time because the amount of work is the same. But what if there is an interaction between num_workers and batch_size. Larger batchsize allow for better use of subprocess?"
   ]
  },
  {
   "cell_type": "code",
   "execution_count": 29,
   "metadata": {},
   "outputs": [],
   "source": [
    "batch_ls = [1, 8, 16, 32, 64, 128]\n",
    "param = param_baseline.copy()\n",
    "param['experiment'] = 'batch_size'"
   ]
  },
  {
   "cell_type": "markdown",
   "metadata": {},
   "source": [
    "num_worker = 0, the cpu usage is 50%. "
   ]
  },
  {
   "cell_type": "code",
   "execution_count": 30,
   "metadata": {},
   "outputs": [
    {
     "name": "stdout",
     "output_type": "stream",
     "text": [
      "Batch Size: 1\n",
      "6min 7s ± 1.1 s per loop (mean ± std. dev. of 3 runs, 1 loop each)\n",
      "Batch Size: 8\n",
      "6min 4s ± 186 ms per loop (mean ± std. dev. of 3 runs, 1 loop each)\n",
      "Batch Size: 16\n",
      "6min 3s ± 799 ms per loop (mean ± std. dev. of 3 runs, 1 loop each)\n",
      "Batch Size: 32\n",
      "6min 3s ± 622 ms per loop (mean ± std. dev. of 3 runs, 1 loop each)\n",
      "Batch Size: 64\n",
      "6min 2s ± 488 ms per loop (mean ± std. dev. of 3 runs, 1 loop each)\n",
      "Batch Size: 128\n",
      "6min 5s ± 671 ms per loop (mean ± std. dev. of 3 runs, 1 loop each)\n"
     ]
    }
   ],
   "source": [
    "for x in batch_ls:\n",
    "    print(f'Batch Size: {x}')\n",
    "    param['batch_size'] = x\n",
    "    result = %timeit -n1 -r3 -o load_train_image(get_data(param))\n",
    "    param['avg'], param['stdev'] = result.average, result.stdev\n",
    "    exp_param = exp_param.append(param, ignore_index=True)"
   ]
  },
  {
   "cell_type": "code",
   "execution_count": null,
   "metadata": {},
   "outputs": [],
   "source": []
  },
  {
   "cell_type": "code",
   "execution_count": null,
   "metadata": {},
   "outputs": [],
   "source": []
  },
  {
   "cell_type": "markdown",
   "metadata": {},
   "source": [
    "## Export result"
   ]
  },
  {
   "cell_type": "code",
   "execution_count": 27,
   "metadata": {},
   "outputs": [],
   "source": [
    "exp_copy = exp_param.copy()"
   ]
  },
  {
   "cell_type": "code",
   "execution_count": 32,
   "metadata": {},
   "outputs": [
    {
     "data": {
      "text/html": [
       "<div>\n",
       "<style scoped>\n",
       "    .dataframe tbody tr th:only-of-type {\n",
       "        vertical-align: middle;\n",
       "    }\n",
       "\n",
       "    .dataframe tbody tr th {\n",
       "        vertical-align: top;\n",
       "    }\n",
       "\n",
       "    .dataframe thead th {\n",
       "        text-align: right;\n",
       "    }\n",
       "</style>\n",
       "<table border=\"1\" class=\"dataframe\">\n",
       "  <thead>\n",
       "    <tr style=\"text-align: right;\">\n",
       "      <th></th>\n",
       "      <th>experiment</th>\n",
       "      <th>image_size</th>\n",
       "      <th>batch_size</th>\n",
       "      <th>num_workers</th>\n",
       "      <th>folder</th>\n",
       "      <th>avg</th>\n",
       "      <th>stdev</th>\n",
       "    </tr>\n",
       "  </thead>\n",
       "  <tbody>\n",
       "    <tr>\n",
       "      <th>0</th>\n",
       "      <td>baseline</td>\n",
       "      <td>224</td>\n",
       "      <td>32</td>\n",
       "      <td>0</td>\n",
       "      <td>train</td>\n",
       "      <td>362.446834</td>\n",
       "      <td>2.609809</td>\n",
       "    </tr>\n",
       "    <tr>\n",
       "      <th>1</th>\n",
       "      <td>number of workers</td>\n",
       "      <td>224</td>\n",
       "      <td>32</td>\n",
       "      <td>1</td>\n",
       "      <td>train</td>\n",
       "      <td>407.077534</td>\n",
       "      <td>0.337877</td>\n",
       "    </tr>\n",
       "    <tr>\n",
       "      <th>2</th>\n",
       "      <td>number of workers</td>\n",
       "      <td>224</td>\n",
       "      <td>32</td>\n",
       "      <td>2</td>\n",
       "      <td>train</td>\n",
       "      <td>221.520170</td>\n",
       "      <td>0.798716</td>\n",
       "    </tr>\n",
       "    <tr>\n",
       "      <th>3</th>\n",
       "      <td>number of workers</td>\n",
       "      <td>224</td>\n",
       "      <td>32</td>\n",
       "      <td>3</td>\n",
       "      <td>train</td>\n",
       "      <td>164.201880</td>\n",
       "      <td>0.422187</td>\n",
       "    </tr>\n",
       "    <tr>\n",
       "      <th>4</th>\n",
       "      <td>number of workers</td>\n",
       "      <td>224</td>\n",
       "      <td>32</td>\n",
       "      <td>4</td>\n",
       "      <td>train</td>\n",
       "      <td>135.563526</td>\n",
       "      <td>0.213248</td>\n",
       "    </tr>\n",
       "    <tr>\n",
       "      <th>5</th>\n",
       "      <td>number of workers</td>\n",
       "      <td>224</td>\n",
       "      <td>32</td>\n",
       "      <td>5</td>\n",
       "      <td>train</td>\n",
       "      <td>120.119384</td>\n",
       "      <td>0.327717</td>\n",
       "    </tr>\n",
       "    <tr>\n",
       "      <th>6</th>\n",
       "      <td>number of workers</td>\n",
       "      <td>224</td>\n",
       "      <td>32</td>\n",
       "      <td>6</td>\n",
       "      <td>train</td>\n",
       "      <td>110.612599</td>\n",
       "      <td>0.486220</td>\n",
       "    </tr>\n",
       "    <tr>\n",
       "      <th>7</th>\n",
       "      <td>number of workers</td>\n",
       "      <td>224</td>\n",
       "      <td>32</td>\n",
       "      <td>10</td>\n",
       "      <td>train</td>\n",
       "      <td>96.664971</td>\n",
       "      <td>0.195501</td>\n",
       "    </tr>\n",
       "    <tr>\n",
       "      <th>8</th>\n",
       "      <td>number of workers</td>\n",
       "      <td>224</td>\n",
       "      <td>32</td>\n",
       "      <td>20</td>\n",
       "      <td>train</td>\n",
       "      <td>93.646667</td>\n",
       "      <td>0.857278</td>\n",
       "    </tr>\n",
       "    <tr>\n",
       "      <th>9</th>\n",
       "      <td>batch_size</td>\n",
       "      <td>224</td>\n",
       "      <td>1</td>\n",
       "      <td>0</td>\n",
       "      <td>train</td>\n",
       "      <td>367.511921</td>\n",
       "      <td>1.098099</td>\n",
       "    </tr>\n",
       "    <tr>\n",
       "      <th>10</th>\n",
       "      <td>batch_size</td>\n",
       "      <td>224</td>\n",
       "      <td>8</td>\n",
       "      <td>0</td>\n",
       "      <td>train</td>\n",
       "      <td>364.819979</td>\n",
       "      <td>0.185924</td>\n",
       "    </tr>\n",
       "    <tr>\n",
       "      <th>11</th>\n",
       "      <td>batch_size</td>\n",
       "      <td>224</td>\n",
       "      <td>16</td>\n",
       "      <td>0</td>\n",
       "      <td>train</td>\n",
       "      <td>363.042897</td>\n",
       "      <td>0.799452</td>\n",
       "    </tr>\n",
       "    <tr>\n",
       "      <th>12</th>\n",
       "      <td>batch_size</td>\n",
       "      <td>224</td>\n",
       "      <td>32</td>\n",
       "      <td>0</td>\n",
       "      <td>train</td>\n",
       "      <td>363.482051</td>\n",
       "      <td>0.622372</td>\n",
       "    </tr>\n",
       "    <tr>\n",
       "      <th>13</th>\n",
       "      <td>batch_size</td>\n",
       "      <td>224</td>\n",
       "      <td>64</td>\n",
       "      <td>0</td>\n",
       "      <td>train</td>\n",
       "      <td>362.762442</td>\n",
       "      <td>0.488195</td>\n",
       "    </tr>\n",
       "    <tr>\n",
       "      <th>14</th>\n",
       "      <td>batch_size</td>\n",
       "      <td>224</td>\n",
       "      <td>128</td>\n",
       "      <td>0</td>\n",
       "      <td>train</td>\n",
       "      <td>365.529810</td>\n",
       "      <td>0.671198</td>\n",
       "    </tr>\n",
       "  </tbody>\n",
       "</table>\n",
       "</div>"
      ],
      "text/plain": [
       "           experiment image_size batch_size num_workers folder         avg  \\\n",
       "0            baseline        224         32           0  train  362.446834   \n",
       "1   number of workers        224         32           1  train  407.077534   \n",
       "2   number of workers        224         32           2  train  221.520170   \n",
       "3   number of workers        224         32           3  train  164.201880   \n",
       "4   number of workers        224         32           4  train  135.563526   \n",
       "5   number of workers        224         32           5  train  120.119384   \n",
       "6   number of workers        224         32           6  train  110.612599   \n",
       "7   number of workers        224         32          10  train   96.664971   \n",
       "8   number of workers        224         32          20  train   93.646667   \n",
       "9          batch_size        224          1           0  train  367.511921   \n",
       "10         batch_size        224          8           0  train  364.819979   \n",
       "11         batch_size        224         16           0  train  363.042897   \n",
       "12         batch_size        224         32           0  train  363.482051   \n",
       "13         batch_size        224         64           0  train  362.762442   \n",
       "14         batch_size        224        128           0  train  365.529810   \n",
       "\n",
       "       stdev  \n",
       "0   2.609809  \n",
       "1   0.337877  \n",
       "2   0.798716  \n",
       "3   0.422187  \n",
       "4   0.213248  \n",
       "5   0.327717  \n",
       "6   0.486220  \n",
       "7   0.195501  \n",
       "8   0.857278  \n",
       "9   1.098099  \n",
       "10  0.185924  \n",
       "11  0.799452  \n",
       "12  0.622372  \n",
       "13  0.488195  \n",
       "14  0.671198  "
      ]
     },
     "execution_count": 32,
     "metadata": {},
     "output_type": "execute_result"
    }
   ],
   "source": [
    "exp_param"
   ]
  },
  {
   "cell_type": "code",
   "execution_count": 33,
   "metadata": {},
   "outputs": [],
   "source": [
    "exp_param.to_csv(utils.data_fp/'loading_runtime.csv', index=False)"
   ]
  },
  {
   "cell_type": "code",
   "execution_count": null,
   "metadata": {},
   "outputs": [],
   "source": [
    "exp_param = pd.read_csv(utils.data_fp/'loading_runtime.csv')"
   ]
  },
  {
   "cell_type": "markdown",
   "metadata": {},
   "source": [
    "### Hardware of current system"
   ]
  },
  {
   "cell_type": "code",
   "execution_count": 31,
   "metadata": {},
   "outputs": [
    {
     "name": "stdout",
     "output_type": "stream",
     "text": [
      "WARNING: you should run this program as super-user.\n",
      "H/W path              Device   Class       Description\n",
      "======================================================\n",
      "/0/0                           memory      15GiB System memory\n",
      "/0/1                           processor   AMD Ryzen 5 1600 Six-Core Processor\n",
      "/0/100/1.3/0.2/4/0             display     GP106 [GeForce GTX 1060 6GB]\n",
      "/0/100/3.1/0                   display     GP106 [GeForce GTX 1060 6GB]\n",
      "WARNING: output may be incomplete or inaccurate, you should run this program as super-user.\n"
     ]
    }
   ],
   "source": [
    "hardware_info = !lshw -short -sanitize\n",
    "for line in hardware_info:\n",
    "    for word in ['WARNING','Description', '==', 'processor', 'memory', 'display']:\n",
    "        if word in line: print(line)"
   ]
  },
  {
   "cell_type": "code",
   "execution_count": null,
   "metadata": {},
   "outputs": [],
   "source": []
  }
 ],
 "metadata": {
  "kernelspec": {
   "display_name": "Python 3",
   "language": "python",
   "name": "python3"
  },
  "language_info": {
   "codemirror_mode": {
    "name": "ipython",
    "version": 3
   },
   "file_extension": ".py",
   "mimetype": "text/x-python",
   "name": "python",
   "nbconvert_exporter": "python",
   "pygments_lexer": "ipython3",
   "version": "3.7.3"
  }
 },
 "nbformat": 4,
 "nbformat_minor": 2
}
