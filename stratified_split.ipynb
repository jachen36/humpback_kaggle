{
 "cells": [
  {
   "cell_type": "code",
   "execution_count": 1,
   "metadata": {},
   "outputs": [],
   "source": [
    "%load_ext autoreload\n",
    "%autoreload 2\n",
    "\n",
    "import utils"
   ]
  },
  {
   "cell_type": "code",
   "execution_count": 2,
   "metadata": {},
   "outputs": [],
   "source": [
    "import pandas as pd\n",
    "from sklearn.model_selection import train_test_split\n",
    "import time"
   ]
  },
  {
   "cell_type": "markdown",
   "metadata": {},
   "source": [
    "# Looking at the data"
   ]
  },
  {
   "cell_type": "code",
   "execution_count": 3,
   "metadata": {},
   "outputs": [
    {
     "name": "stdout",
     "output_type": "stream",
     "text": [
      "(25361, 2)\n",
      "Number of classes: 5,005\n"
     ]
    },
    {
     "data": {
      "text/html": [
       "<div>\n",
       "<style scoped>\n",
       "    .dataframe tbody tr th:only-of-type {\n",
       "        vertical-align: middle;\n",
       "    }\n",
       "\n",
       "    .dataframe tbody tr th {\n",
       "        vertical-align: top;\n",
       "    }\n",
       "\n",
       "    .dataframe thead th {\n",
       "        text-align: right;\n",
       "    }\n",
       "</style>\n",
       "<table border=\"1\" class=\"dataframe\">\n",
       "  <thead>\n",
       "    <tr style=\"text-align: right;\">\n",
       "      <th></th>\n",
       "      <th>Image</th>\n",
       "      <th>Id</th>\n",
       "    </tr>\n",
       "  </thead>\n",
       "  <tbody>\n",
       "    <tr>\n",
       "      <th>0</th>\n",
       "      <td>0000e88ab.jpg</td>\n",
       "      <td>w_f48451c</td>\n",
       "    </tr>\n",
       "    <tr>\n",
       "      <th>1</th>\n",
       "      <td>0001f9222.jpg</td>\n",
       "      <td>w_c3d896a</td>\n",
       "    </tr>\n",
       "    <tr>\n",
       "      <th>2</th>\n",
       "      <td>00029d126.jpg</td>\n",
       "      <td>w_20df2c5</td>\n",
       "    </tr>\n",
       "    <tr>\n",
       "      <th>3</th>\n",
       "      <td>00050a15a.jpg</td>\n",
       "      <td>new_whale</td>\n",
       "    </tr>\n",
       "    <tr>\n",
       "      <th>4</th>\n",
       "      <td>0005c1ef8.jpg</td>\n",
       "      <td>new_whale</td>\n",
       "    </tr>\n",
       "  </tbody>\n",
       "</table>\n",
       "</div>"
      ],
      "text/plain": [
       "           Image         Id\n",
       "0  0000e88ab.jpg  w_f48451c\n",
       "1  0001f9222.jpg  w_c3d896a\n",
       "2  00029d126.jpg  w_20df2c5\n",
       "3  00050a15a.jpg  new_whale\n",
       "4  0005c1ef8.jpg  new_whale"
      ]
     },
     "execution_count": 3,
     "metadata": {},
     "output_type": "execute_result"
    }
   ],
   "source": [
    "labels = pd.read_csv(utils.data_fp/'train.csv')\n",
    "print(labels.shape)\n",
    "print(f'Number of classes: {len(labels.Id.unique()):,}')\n",
    "labels.head()"
   ]
  },
  {
   "cell_type": "markdown",
   "metadata": {},
   "source": [
    "## Split data into training and validation set\n",
    "Because the data is extremely unbalance where new_whale takes a large proportion and many classes only has one sample, we cannot use a random sampling method. For example:   \n",
    "* Fastai will get an error when there is a class in the validation set and not in training set. [link](https://github.com/fastai/fastai/issues/1273)\n",
    "\n",
    "In addition, we cannot use StratifiedShuffleSplit because the minimum number of groups for any class cannot be less than 2. Instead, we will manually create a train and validation split. "
   ]
  },
  {
   "cell_type": "code",
   "execution_count": 4,
   "metadata": {},
   "outputs": [],
   "source": [
    "# ## Save code just in case for future use\n",
    "# sss = StratifiedShuffleSplit(n_splits=1, test_size=0.2, random_state=42)\n",
    "# ## split is decided by the Id column\n",
    "# for train_index, val_index in sss.split(labels.index.values, labels.Id):\n",
    "#     train_idx, val_idx = train_index, val_index  "
   ]
  },
  {
   "cell_type": "code",
   "execution_count": 5,
   "metadata": {},
   "outputs": [
    {
     "name": "stdout",
     "output_type": "stream",
     "text": [
      "The number of images: 25,361\n",
      "====================\n",
      "Number of classes with only one image: 2,073\n",
      "Percentage of classes with one image: 41%\n",
      "====================\n",
      "Number of new_whate image: 9,664\n",
      "Percentage of images are new_whale: 38%\n"
     ]
    }
   ],
   "source": [
    "class_counts = labels.Id.value_counts(sort=True, ascending=True)\n",
    "print(f'The number of images: {class_counts.sum():,}')\n",
    "print('{}'.format('='*20))\n",
    "print(f'Number of classes with only one image: {sum(class_counts == 1):,}')\n",
    "print(f'Percentage of classes with one image: {sum(class_counts == 1)/len(labels.Id.unique()):.0%}')\n",
    "print('{}'.format('='*20))\n",
    "print(f'Number of new_whate image: {class_counts[\"new_whale\"].sum():,}')\n",
    "print(f'Percentage of images are new_whale: {class_counts[\"new_whale\"]/class_counts.sum()*100:0.0f}%')"
   ]
  },
  {
   "cell_type": "code",
   "execution_count": 6,
   "metadata": {},
   "outputs": [
    {
     "data": {
      "text/plain": [
       "new_whale    9664\n",
       "w_23a388d      73\n",
       "w_9b5109b      65\n",
       "w_9c506f6      62\n",
       "w_0369a5c      61\n",
       "Name: Id, dtype: int64"
      ]
     },
     "execution_count": 6,
     "metadata": {},
     "output_type": "execute_result"
    }
   ],
   "source": [
    "class_counts[::-1][:5]  # top five most common class"
   ]
  },
  {
   "cell_type": "code",
   "execution_count": 7,
   "metadata": {},
   "outputs": [
    {
     "data": {
      "text/plain": [
       "1       2073\n",
       "2       1285\n",
       "3        568\n",
       "4        273\n",
       "5        172\n",
       "6        136\n",
       "7         86\n",
       "8         76\n",
       "9         62\n",
       "10        46\n",
       "11        39\n",
       "12        26\n",
       "15        19\n",
       "17        17\n",
       "14        16\n",
       "16        16\n",
       "13        14\n",
       "19         8\n",
       "24         7\n",
       "20         7\n",
       "21         7\n",
       "18         6\n",
       "22         5\n",
       "23         4\n",
       "31         3\n",
       "37         3\n",
       "30         3\n",
       "40         3\n",
       "45         2\n",
       "34         2\n",
       "29         2\n",
       "25         2\n",
       "48         1\n",
       "9664       1\n",
       "36         1\n",
       "32         1\n",
       "51         1\n",
       "33         1\n",
       "49         1\n",
       "57         1\n",
       "47         1\n",
       "65         1\n",
       "73         1\n",
       "50         1\n",
       "54         1\n",
       "62         1\n",
       "27         1\n",
       "35         1\n",
       "61         1\n",
       "Name: Id, dtype: int64"
      ]
     },
     "execution_count": 7,
     "metadata": {},
     "output_type": "execute_result"
    }
   ],
   "source": [
    "## Number of samples per class\n",
    "class_counts.value_counts()"
   ]
  },
  {
   "cell_type": "markdown",
   "metadata": {},
   "source": [
    "### Stratified Split\n",
    "Split the data such that classes with only 1 sample will go into training set and classes with 2+ will split randomly with ~20% into validation set. "
   ]
  },
  {
   "cell_type": "code",
   "execution_count": 8,
   "metadata": {},
   "outputs": [
    {
     "name": "stdout",
     "output_type": "stream",
     "text": [
      "This took 2 seconds\n"
     ]
    }
   ],
   "source": [
    "start_time = time.time()\n",
    "## stratify sampling that can handle \n",
    "train_idx, val_idx = pd.Series(), pd.Series()\n",
    "for name, group in labels.reset_index()[['index', 'Id']].groupby(['Id']):\n",
    "    ## if a class only have 1 sample, just return that one\n",
    "    if group.shape[0] == 1:\n",
    "        train, val = group['index'], []\n",
    "    ## split each group randomly and obtain their index\n",
    "    else:\n",
    "        train, val = train_test_split(group['index'], test_size=0.2, random_state=284)\n",
    "    train_idx = train_idx.append(train)\n",
    "    val_idx = val_idx.append(val)\n",
    "    \n",
    "print(f'This took {int(time.time() - start_time)} seconds')"
   ]
  },
  {
   "cell_type": "code",
   "execution_count": 9,
   "metadata": {},
   "outputs": [
    {
     "data": {
      "text/plain": [
       "22474    22474\n",
       "16267    16267\n",
       "21988    21988\n",
       "13940    13940\n",
       "10178    10178\n",
       "dtype: int64"
      ]
     },
     "execution_count": 9,
     "metadata": {},
     "output_type": "execute_result"
    }
   ],
   "source": [
    "train_idx.head()"
   ]
  },
  {
   "cell_type": "markdown",
   "metadata": {},
   "source": [
    "The training/validation split is off from the 80/20 split because classes with a small amount of images are harder to split with that ratio.  \n",
    "For instance, classes with 2 images will do a 50/50 split such that atleast one is in training and validation. "
   ]
  },
  {
   "cell_type": "code",
   "execution_count": 10,
   "metadata": {},
   "outputs": [
    {
     "name": "stdout",
     "output_type": "stream",
     "text": [
      "Total population of class with only 1 data point 41%\n",
      "Total population of class with only 2 data point 26%\n"
     ]
    }
   ],
   "source": [
    "print(f'Total population of class with only 1 data point \\\n",
    "{(class_counts == 1).sum()/len(class_counts)*100:0.0f}%')\n",
    "print(f'Total population of class with only 2 data point \\\n",
    "{(class_counts == 2).sum()/len(class_counts)*100:0.0f}%')"
   ]
  },
  {
   "cell_type": "markdown",
   "metadata": {},
   "source": [
    "## Verify that the split was successful"
   ]
  },
  {
   "cell_type": "code",
   "execution_count": 11,
   "metadata": {},
   "outputs": [],
   "source": [
    "labels['validation'] = True\n",
    "labels.loc[train_idx, 'validation'] = False"
   ]
  },
  {
   "cell_type": "code",
   "execution_count": 12,
   "metadata": {},
   "outputs": [
    {
     "name": "stdout",
     "output_type": "stream",
     "text": [
      "Number of class 5005: 5005\n",
      "Percent of validation split: 24%\n"
     ]
    }
   ],
   "source": [
    "## assess that the number of class are all accounted for in the training indexing\n",
    "assert len(labels.loc[train_idx, 'Id'].unique()) == len(labels.Id.unique())\n",
    "print('Number of class {}: {}'.format(len(labels.loc[train_idx, 'Id'].unique()), len(labels['Id'].unique())))\n",
    "print('Percent of validation split: {:.0%}'.format(labels.validation.mean()))"
   ]
  },
  {
   "cell_type": "code",
   "execution_count": 13,
   "metadata": {},
   "outputs": [
    {
     "name": "stdout",
     "output_type": "stream",
     "text": [
      "On average for each class, the split to valiation is 23%\n"
     ]
    }
   ],
   "source": [
    "# select classes with more than 10 data points.\n",
    "# Get the train/validation split percentage by class\n",
    "# Get the mean of the splits\n",
    "val_split = labels[labels.Id.isin(class_counts[class_counts >= 10].index)].groupby('Id')['validation'].mean().mean()\n",
    "print(f'On average for each class, the split to valiation is {val_split:0.0%}')"
   ]
  },
  {
   "cell_type": "markdown",
   "metadata": {},
   "source": [
    "Since the split is random and it normal that the split isn't perfectly at 20%. "
   ]
  },
  {
   "cell_type": "markdown",
   "metadata": {},
   "source": [
    "## Export Train and Validation Index"
   ]
  },
  {
   "cell_type": "code",
   "execution_count": 14,
   "metadata": {},
   "outputs": [
    {
     "data": {
      "text/html": [
       "<div>\n",
       "<style scoped>\n",
       "    .dataframe tbody tr th:only-of-type {\n",
       "        vertical-align: middle;\n",
       "    }\n",
       "\n",
       "    .dataframe tbody tr th {\n",
       "        vertical-align: top;\n",
       "    }\n",
       "\n",
       "    .dataframe thead th {\n",
       "        text-align: right;\n",
       "    }\n",
       "</style>\n",
       "<table border=\"1\" class=\"dataframe\">\n",
       "  <thead>\n",
       "    <tr style=\"text-align: right;\">\n",
       "      <th></th>\n",
       "      <th>Image</th>\n",
       "      <th>Id</th>\n",
       "      <th>validation</th>\n",
       "    </tr>\n",
       "  </thead>\n",
       "  <tbody>\n",
       "    <tr>\n",
       "      <th>0</th>\n",
       "      <td>0000e88ab.jpg</td>\n",
       "      <td>w_f48451c</td>\n",
       "      <td>False</td>\n",
       "    </tr>\n",
       "    <tr>\n",
       "      <th>1</th>\n",
       "      <td>0001f9222.jpg</td>\n",
       "      <td>w_c3d896a</td>\n",
       "      <td>False</td>\n",
       "    </tr>\n",
       "    <tr>\n",
       "      <th>2</th>\n",
       "      <td>00029d126.jpg</td>\n",
       "      <td>w_20df2c5</td>\n",
       "      <td>False</td>\n",
       "    </tr>\n",
       "    <tr>\n",
       "      <th>3</th>\n",
       "      <td>00050a15a.jpg</td>\n",
       "      <td>new_whale</td>\n",
       "      <td>False</td>\n",
       "    </tr>\n",
       "    <tr>\n",
       "      <th>4</th>\n",
       "      <td>0005c1ef8.jpg</td>\n",
       "      <td>new_whale</td>\n",
       "      <td>False</td>\n",
       "    </tr>\n",
       "  </tbody>\n",
       "</table>\n",
       "</div>"
      ],
      "text/plain": [
       "           Image         Id  validation\n",
       "0  0000e88ab.jpg  w_f48451c       False\n",
       "1  0001f9222.jpg  w_c3d896a       False\n",
       "2  00029d126.jpg  w_20df2c5       False\n",
       "3  00050a15a.jpg  new_whale       False\n",
       "4  0005c1ef8.jpg  new_whale       False"
      ]
     },
     "execution_count": 14,
     "metadata": {},
     "output_type": "execute_result"
    }
   ],
   "source": [
    "labels.head()"
   ]
  },
  {
   "cell_type": "code",
   "execution_count": 15,
   "metadata": {},
   "outputs": [],
   "source": [
    "labels.to_csv(utils.data_fp/'train_stratified_split.csv', index=False)"
   ]
  },
  {
   "cell_type": "code",
   "execution_count": null,
   "metadata": {},
   "outputs": [],
   "source": []
  }
 ],
 "metadata": {
  "kernelspec": {
   "display_name": "Python 3",
   "language": "python",
   "name": "python3"
  },
  "language_info": {
   "codemirror_mode": {
    "name": "ipython",
    "version": 3
   },
   "file_extension": ".py",
   "mimetype": "text/x-python",
   "name": "python",
   "nbconvert_exporter": "python",
   "pygments_lexer": "ipython3",
   "version": "3.7.3"
  }
 },
 "nbformat": 4,
 "nbformat_minor": 2
}
