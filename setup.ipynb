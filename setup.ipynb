{
 "cells": [
  {
   "cell_type": "markdown",
   "metadata": {},
   "source": [
    "# Downloading the data to GCP from Kaggle"
   ]
  },
  {
   "cell_type": "code",
   "execution_count": null,
   "metadata": {},
   "outputs": [],
   "source": [
    "!pip install kaggle\n",
    "\n",
    "# make folder .kaggle if not exist\n",
    "!mkdir -p ~/.kaggle\n",
    "!echo '{\"username\":\"yourusername\",\"key\":\"youapikey\"}' > ~/.kaggle/kaggle.json\n",
    "\n",
    "# use this to verify that your file and setting is correct. \n",
    "!cat ~/.kaggle/kaggle.json"
   ]
  },
  {
   "cell_type": "code",
   "execution_count": null,
   "metadata": {},
   "outputs": [],
   "source": [
    "# make directory for project\n",
    "!mkdir -p ~/humpback\n",
    "!cd ~/humpback\n",
    "\n",
    "# download kaggle dataset\n",
    "!kaggle competitions download -c humpback-whale-identification\n",
    "\n",
    "# make folders for data\n",
    "!mkdir -p ./data/train\n",
    "!mkdir -p ./data/test\n",
    "# unzip files\n",
    "!unzip train.zip -d ./train\n",
    "!unzip test.zip -d ./test"
   ]
  },
  {
   "cell_type": "code",
   "execution_count": 6,
   "metadata": {},
   "outputs": [
    {
     "name": "stdout",
     "output_type": "stream",
     "text": [
      "/home/jupyter/humpback\n",
      "total 772\n",
      "drwxr-xr-x  6 jupyter jupyter   4096 Dec 15 05:09 .\n",
      "drwxr-xr-x 14 jupyter jupyter   4096 Dec 15 04:52 ..\n",
      "drwxr-xr-x  5 jupyter jupyter 266240 Dec  5 04:44 data\n",
      "-rw-r--r--  1 jupyter jupyter 488744 Dec  5 05:17 first_attempt.ipynb\n",
      "drwxr-xr-x  8 jupyter jupyter   4096 Dec 15 04:53 .git\n",
      "-rw-r--r--  1 jupyter jupyter     48 Dec 15 04:52 .gitignore\n",
      "drwxr-xr-x  2 jupyter jupyter   4096 Dec 15 04:53 .ipynb_checkpoints\n",
      "-rw-r--r--  1 jupyter jupyter   2326 Dec 15 05:09 setup.ipynb\n",
      "-rw-r--r--  1 jupyter jupyter   3431 Dec  5 04:35 test.ipynb\n",
      "drwxr-xr-x  2 jupyter jupyter   4096 Dec  5 03:32 tmp\n"
     ]
    }
   ],
   "source": [
    "!pwd\n",
    "!ls -al"
   ]
  },
  {
   "cell_type": "code",
   "execution_count": 9,
   "metadata": {},
   "outputs": [
    {
     "name": "stdout",
     "output_type": "stream",
     "text": [
      "sample_submission.csv\n",
      "test\n",
      "train\n",
      "  25362   25362  355064\n",
      "e0df64b85.jpg\n",
      "9d9092283.jpg\n",
      "a47804336.jpg\n",
      "9d9945607.jpg\n",
      "   7960    7960  111440\n",
      "9bcb5006f.jpg\n",
      "6d1191a39.jpg\n",
      "1f81e0290.jpg\n",
      "c454c5e60.jpg\n"
     ]
    }
   ],
   "source": [
    "%%bash\n",
    "ls ./data\n",
    "## how many files are in training\n",
    "ls ./data/train | wc\n",
    "ls -U ./data/train | head -4 \n",
    "ls ./data/test | wc\n",
    "ls -U ./data/test | head -4 "
   ]
  },
  {
   "cell_type": "code",
   "execution_count": 11,
   "metadata": {},
   "outputs": [
    {
     "name": "stdout",
     "output_type": "stream",
     "text": [
      "Image,Id\n",
      "0000e88ab.jpg,w_f48451c\n",
      "0001f9222.jpg,w_c3d896a\n",
      "00029d126.jpg,w_20df2c5\n",
      "00050a15a.jpg,new_whale\n",
      "0005c1ef8.jpg,new_whale\n",
      "0006e997e.jpg,new_whale\n",
      "000a6daec.jpg,w_dd88965\n",
      "000f0f2bf.jpg,new_whale\n",
      "0016b897a.jpg,w_64404ac\n"
     ]
    }
   ],
   "source": [
    "## display the beinging train file\n",
    "!head ./data/train/train.csv"
   ]
  },
  {
   "cell_type": "code",
   "execution_count": 12,
   "metadata": {},
   "outputs": [
    {
     "name": "stdout",
     "output_type": "stream",
     "text": [
      "Image,Id\n",
      "00028a005.jpg,new_whale w_23a388d w_9b5109b w_9c506f6 w_0369a5c\n",
      "000dcf7d8.jpg,new_whale w_23a388d w_9b5109b w_9c506f6 w_0369a5c\n",
      "000e7c7df.jpg,new_whale w_23a388d w_9b5109b w_9c506f6 w_0369a5c\n",
      "0019c34f4.jpg,new_whale w_23a388d w_9b5109b w_9c506f6 w_0369a5c\n",
      "001a4d292.jpg,new_whale w_23a388d w_9b5109b w_9c506f6 w_0369a5c\n",
      "00247bc36.jpg,new_whale w_23a388d w_9b5109b w_9c506f6 w_0369a5c\n",
      "0027089a4.jpg,new_whale w_23a388d w_9b5109b w_9c506f6 w_0369a5c\n",
      "002de4d94.jpg,new_whale w_23a388d w_9b5109b w_9c506f6 w_0369a5c\n",
      "002f52f0c.jpg,new_whale w_23a388d w_9b5109b w_9c506f6 w_0369a5c\n"
     ]
    }
   ],
   "source": [
    "## display the beginning of the submission file\n",
    "!head ./data/sample_submission.csv"
   ]
  },
  {
   "cell_type": "markdown",
   "metadata": {},
   "source": [
    "# Update fastai course3"
   ]
  },
  {
   "cell_type": "code",
   "execution_count": null,
   "metadata": {},
   "outputs": [],
   "source": [
    "#!conda update fastai  ## update fastai\n",
    "#!cd ~/tutorial/fastai/course-v3\n",
    "#!sudo git pull"
   ]
  }
 ],
 "metadata": {
  "kernelspec": {
   "display_name": "Python 3",
   "language": "python",
   "name": "python3"
  },
  "language_info": {
   "codemirror_mode": {
    "name": "ipython",
    "version": 3
   },
   "file_extension": ".py",
   "mimetype": "text/x-python",
   "name": "python",
   "nbconvert_exporter": "python",
   "pygments_lexer": "ipython3",
   "version": "3.7.3"
  }
 },
 "nbformat": 4,
 "nbformat_minor": 2
}
