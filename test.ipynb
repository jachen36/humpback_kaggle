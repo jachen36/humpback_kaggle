{
 "cells": [
  {
   "cell_type": "markdown",
   "metadata": {},
   "source": [
    "# Test if lab works with fastai and troubleshooting\n",
    "\n",
    "https://docs.fast.ai/troubleshoot.html"
   ]
  },
  {
   "cell_type": "code",
   "execution_count": 2,
   "metadata": {},
   "outputs": [
    {
     "name": "stdout",
     "output_type": "stream",
     "text": [
      "True\n"
     ]
    }
   ],
   "source": [
    "import torch\n",
    "print(torch.cuda.is_available())"
   ]
  },
  {
   "cell_type": "markdown",
   "metadata": {},
   "source": [
    "run this command on your ssh terminal \n",
    "\n",
    "```nvidia-smi```"
   ]
  },
  {
   "cell_type": "code",
   "execution_count": 3,
   "metadata": {},
   "outputs": [
    {
     "name": "stdout",
     "output_type": "stream",
     "text": [
      "\n",
      "\n",
      "```text\n",
      "=== Software === \n",
      "python version  : 3.7.0\n",
      "fastai version  : 1.0.33\n",
      "torch version   : 1.0.0.dev20181204\n",
      "nvidia driver   : 410.72\n",
      "torch cuda ver  : 9.2.148\n",
      "torch cuda is   : available\n",
      "torch cudnn ver : 7401\n",
      "torch cudnn is  : enabled\n",
      "\n",
      "=== Hardware === \n",
      "nvidia gpus     : 1\n",
      "torch available : 1\n",
      "  - gpu0        : 7611MB | Tesla P4\n",
      "\n",
      "=== Environment === \n",
      "platform        : Linux-4.9.0-8-amd64-x86_64-with-debian-9.6\n",
      "distro          : #1 SMP Debian 4.9.130-2 (2018-10-27)\n",
      "conda env       : base\n",
      "python          : /opt/anaconda3/bin/python\n",
      "sys.path        : \n",
      "/home/jupyter/humpback\n",
      "/opt/anaconda3/lib/python37.zip\n",
      "/opt/anaconda3/lib/python3.7\n",
      "/opt/anaconda3/lib/python3.7/lib-dynload\n",
      "/opt/anaconda3/lib/python3.7/site-packages\n",
      "/opt/anaconda3/lib/python3.7/site-packages/IPython/extensions\n",
      "/home/jupyter/.ipython\n",
      "```\n",
      "\n",
      "Please make sure to include opening/closing ``` when you paste into forums/github to make the reports appear formatted as code sections.\n",
      "\n",
      "Optional package(s) to enhance the diagnostics can be installed with:\n",
      "pip install distro\n",
      "Once installed, re-run this utility to get the additional information\n"
     ]
    }
   ],
   "source": [
    "import fastai\n",
    "fastai.show_install()"
   ]
  },
  {
   "cell_type": "code",
   "execution_count": null,
   "metadata": {},
   "outputs": [],
   "source": []
  },
  {
   "cell_type": "code",
   "execution_count": null,
   "metadata": {},
   "outputs": [],
   "source": []
  },
  {
   "cell_type": "code",
   "execution_count": null,
   "metadata": {},
   "outputs": [],
   "source": []
  },
  {
   "cell_type": "code",
   "execution_count": null,
   "metadata": {},
   "outputs": [],
   "source": []
  },
  {
   "cell_type": "code",
   "execution_count": null,
   "metadata": {},
   "outputs": [],
   "source": []
  }
 ],
 "metadata": {
  "kernelspec": {
   "display_name": "Python 3",
   "language": "python",
   "name": "python3"
  },
  "language_info": {
   "codemirror_mode": {
    "name": "ipython",
    "version": 3
   },
   "file_extension": ".py",
   "mimetype": "text/x-python",
   "name": "python",
   "nbconvert_exporter": "python",
   "pygments_lexer": "ipython3",
   "version": "3.7.1"
  }
 },
 "nbformat": 4,
 "nbformat_minor": 2
}
